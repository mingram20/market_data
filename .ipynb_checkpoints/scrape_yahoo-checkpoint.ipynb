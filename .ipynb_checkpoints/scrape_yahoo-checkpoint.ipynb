{
 "cells": [
  {
   "cell_type": "markdown",
   "metadata": {},
   "source": [
    "# Market Data"
   ]
  },
  {
   "cell_type": "markdown",
   "metadata": {},
   "source": [
    "## Google Scrape"
   ]
  },
  {
   "cell_type": "markdown",
   "metadata": {},
   "source": [
    "### Dependencies"
   ]
  },
  {
   "cell_type": "code",
   "execution_count": 23,
   "metadata": {},
   "outputs": [],
   "source": [
    "# Import dependencies\n",
    "from splinter import Browser\n",
    "from bs4 import BeautifulSoup\n",
    "\n",
    "import pandas as pd\n",
    "\n",
    "import time\n",
    "\n",
    "import os\n",
    "\n",
    "import pymongo\n",
    "\n",
    "import json"
   ]
  },
  {
   "cell_type": "code",
   "execution_count": 60,
   "metadata": {},
   "outputs": [
    {
     "data": {
      "text/plain": [
       "['ABCE', 'ABEPF', 'ABMT']"
      ]
     },
     "execution_count": 60,
     "metadata": {},
     "output_type": "execute_result"
    }
   ],
   "source": [
    "# Use pymongo to set up mongo connection\n",
    "conn = \"mongodb://localhost:27017\"\n",
    "client = pymongo.MongoClient(conn)\n",
    "db = client.otc_markets\n",
    "\n",
    "#db.most_active.insert({'symbols': 'ABCE'})\n",
    "#db.most_active.insert({'symbols': 'ABEPF'})\n",
    "#db.most_active.insert({'symbols': 'ABMT'})\n",
    "\n",
    "most_actives = db.most_active.find({})\n",
    "\n",
    "symbols = []\n",
    "\n",
    "for most_active in most_actives:\n",
    "    symbols.append(most_active['symbols'])\n",
    "\n",
    "symbols"
   ]
  },
  {
   "cell_type": "code",
   "execution_count": 61,
   "metadata": {},
   "outputs": [
    {
     "name": "stdout",
     "output_type": "stream",
     "text": [
      "ABCE\n",
      "0.014\n",
      "2167440.0\n",
      "879344.0\n",
      "2.2\n",
      "N/A\n",
      "N/A\n",
      "https://finance.yahoo.com/news/abco-energy-announces-sale-solar-155000177.html\n",
      "ABCO Energy Announces Sale Of Solar Power System For Episcopal Church\n",
      "Technology\n",
      "Solar\n",
      "['Full Time Employees', '25']\n",
      "ABEPF\n",
      "0.0659\n",
      "7574.0\n",
      "5475000.0\n",
      "0.67\n",
      "N/A\n",
      "N/A\n",
      "https://finance.yahoo.com/news/vision-lithium-reports-1-85-110000030.html\n",
      "Vision Lithium reports 1.85% Li2o over 13.50 metres from channel sampling at the Sirmac Lithium Property\n",
      "Basic Materials\n",
      "Industrial Metals & Minerals\n",
      "['Full Time Employees', '']\n",
      "ABMT\n",
      "0.121\n",
      "275.0\n",
      "8425000.0\n",
      "3.85\n",
      "N/A\n",
      "N/A\n",
      "N/A\n",
      "N/A\n",
      "Healthcare\n",
      "Medical Devices\n",
      "['Full Time Employees', '15']\n"
     ]
    }
   ],
   "source": [
    "# Open browser with the Yahoo Finance webpage\n",
    "previous_close_lst = []\n",
    "avg_volume_lst = []\n",
    "market_cap_lst = []\n",
    "beta_lst = []\n",
    "pe_ratio_lst = []\n",
    "price_estimate_lst = []\n",
    "latest_news_link_lst = []\n",
    "latest_news_head_lst = []\n",
    "sector_lst = []\n",
    "industry_lst = []\n",
    "employees_lst = []\n",
    "\n",
    "for symbol in symbols:\n",
    "    executable_path = {'executable_path': '/usr/local/bin/chromedriver'}\n",
    "    browser = Browser('chrome', **executable_path, headless=False)\n",
    "    url = 'https://finance.yahoo.com/quote/' + symbol\n",
    "    browser.visit(url)\n",
    "\n",
    "    time.sleep(5)\n",
    "    \n",
    "    # Scrape the webpage and collect the Top Stories\n",
    "    html = browser.html\n",
    "    soup = BeautifulSoup(html, 'html.parser')\n",
    "    string = 'data-test'\n",
    "    try:\n",
    "        previous_close = soup.find(attrs={\"data-test\": 'PREV_CLOSE-value'}).span.text\n",
    "        previous_close = float(previous_close)\n",
    "    except AttributeError:\n",
    "        previous_close = 'N/A'\n",
    "    try:\n",
    "        avg_volume = soup.find(attrs={\"data-test\": 'AVERAGE_VOLUME_3MONTH-value'}).span.text\n",
    "        avg_volume = float(avg_volume.replace(',',''))\n",
    "    except AttributeError:\n",
    "        avg_volume = 'N/A'\n",
    "    try:\n",
    "        market_cap = soup.find(attrs={\"data-test\": 'MARKET_CAP-value'}).span.text\n",
    "        market_cap = market_cap.replace(',','')\n",
    "        if market_cap[-1] == 'M':\n",
    "            market_cap = float(market_cap[:-1]) * 1000000\n",
    "        elif market_cap[-1] == 'B':\n",
    "            market_cap = float(market_cap[:-1]) * 1000000000\n",
    "        else:\n",
    "            market_cap = float(market_cap)\n",
    "    except AttributeError:\n",
    "        market_cap = 'N/A'\n",
    "    try:\n",
    "        beta = soup.find(attrs={\"data-test\": 'BETA_3Y-value'}).span.text\n",
    "        beta = float(beta)\n",
    "    except AttributeError:\n",
    "        beta = 'N/A'\n",
    "    try:\n",
    "        pe_ratio = soup.find(attrs={\"data-test\": 'PE_RATIO-value'}).span.text\n",
    "        if pe_ratio == 'N/A':\n",
    "            pe_ratio = 'N/A'\n",
    "        else:\n",
    "            pe_ratio = float(pe_ratio)\n",
    "    except AttributeError:\n",
    "        pe_ratio = 'N/A'\n",
    "    try:\n",
    "        price_estimate = soup.find(attrs={\"data-test\": 'ONE_YEAR_TARGET_PRICE-value'}).span.text\n",
    "        if price_estimate == 'N/A':\n",
    "            price_estimate = 'N/A'\n",
    "        else:\n",
    "            price_estimate = float(price_estimate)\n",
    "    except AttributeError:\n",
    "        price_estimate = 'N/A'\n",
    "    try:\n",
    "        latest_news_link = \"https://finance.yahoo.com\" + soup.find('li', class_='js-stream-content').a['href']\n",
    "    except AttributeError:\n",
    "        latest_news_link = 'N/A'\n",
    "    try:\n",
    "        latest_news_head = soup.find('li', class_='js-stream-content').a.text\n",
    "    except AttributeError:\n",
    "        latest_news_head = 'N/A'\n",
    "        \n",
    "    print(symbol)\n",
    "    print(previous_close)\n",
    "    print(avg_volume)\n",
    "    print(market_cap)\n",
    "    print(beta)\n",
    "    print(pe_ratio)\n",
    "    print(price_estimate)\n",
    "    print(latest_news_link)\n",
    "    print(latest_news_head)\n",
    "    \n",
    "    browser.click_link_by_partial_text('Profile')\n",
    "    \n",
    "    time.sleep(5)\n",
    "\n",
    "    html = browser.html\n",
    "    soup = BeautifulSoup(html, 'html.parser')\n",
    "    \n",
    "    \n",
    "    try:\n",
    "        string = soup.find('p', class_='D(ib) Va(t)').text\n",
    "    except AttributeError:\n",
    "        sector = 'N/A'\n",
    "        industry = 'N/A'\n",
    "        employee_count = 'N/A'\n",
    "    \n",
    "    sector_pos = string.find('Industry')\n",
    "    sector = string[:sector_pos]\n",
    "    if (sector.replace('\\xa0', '').split(':')[1]) == '':\n",
    "        sector = 'N/A'\n",
    "    else:\n",
    "        sector = (sector.replace('\\xa0', '').split(':')[1])\n",
    "    print(sector)\n",
    "    \n",
    "    industry_pos = string.find('Full Time')\n",
    "    industry = string[sector_pos:industry_pos]\n",
    "    if (industry.replace('\\xa0', '').split(':')[1]) == '':\n",
    "        industry = 'N/A'\n",
    "    else:\n",
    "        industry = (industry.replace('\\xa0', '').split(':')[1])\n",
    "    print(industry)\n",
    "    \n",
    "    employees = string[industry_pos:]\n",
    "    if (employees.replace('\\xa0', '').split(':')[1]) == '':\n",
    "        employee_count = 'N/A'\n",
    "    else:\n",
    "        employee_count = int(employees.replace('\\xa0', '').split(':')[1])\n",
    "    print(employees.replace('\\xa0', '').split(':'))\n",
    "    \n",
    "    browser.quit()\n",
    "\n",
    "    previous_close_lst.append(previous_close)\n",
    "    avg_volume_lst.append(avg_volume)\n",
    "    market_cap_lst.append(market_cap)\n",
    "    beta_lst.append(beta)\n",
    "    pe_ratio_lst.append(pe_ratio)\n",
    "    price_estimate_lst.append(price_estimate)\n",
    "    latest_news_link_lst.append(latest_news_link)\n",
    "    latest_news_head_lst.append(latest_news_head)\n",
    "    sector_lst.append(sector)\n",
    "    industry_lst.append(industry)\n",
    "    employees_lst.append(employee_count)"
   ]
  },
  {
   "cell_type": "code",
   "execution_count": 62,
   "metadata": {},
   "outputs": [],
   "source": [
    "yahooDF = pd.DataFrame(columns = ['symbol', 'previous_close', 'avg_volume', 'market_cap', 'beta', 'pe_ratio', 'price_estimate', 'latest_news_link', 'latest_news_head', 'sector', 'industry', 'employees'])\n",
    "yahooDF['symbol'] = symbols\n",
    "yahooDF['previous_close'] = previous_close_lst \n",
    "yahooDF['avg_volume'] = avg_volume_lst \n",
    "yahooDF['market_cap'] = market_cap_lst\n",
    "yahooDF['beta'] = beta_lst\n",
    "yahooDF['pe_ratio'] = pe_ratio_lst\n",
    "yahooDF['price_estimate'] = price_estimate_lst \n",
    "yahooDF['latest_news_link'] = latest_news_link_lst\n",
    "yahooDF['latest_news_head'] = latest_news_head_lst\n",
    "yahooDF['sector'] = sector_lst\n",
    "yahooDF['industry'] =industry_lst \n",
    "yahooDF['employees'] = employees_lst\n",
    "\n",
    "yahooDF\n",
    "\n",
    "file_path = os.path.join('data','yahoo_financial_data.csv')\n",
    "\n",
    "yahooDF.to_csv(file_path, index = False)"
   ]
  },
  {
   "cell_type": "code",
   "execution_count": 63,
   "metadata": {},
   "outputs": [
    {
     "name": "stderr",
     "output_type": "stream",
     "text": [
      "/anaconda3/envs/PythonData/lib/python3.7/site-packages/ipykernel_launcher.py:6: DeprecationWarning: insert is deprecated. Use insert_one or insert_many instead.\n",
      "  \n"
     ]
    },
    {
     "data": {
      "text/plain": [
       "[ObjectId('5ccb97e1247ac6a5fd7288b4'),\n",
       " ObjectId('5ccb97e1247ac6a5fd7288b5'),\n",
       " ObjectId('5ccb97e1247ac6a5fd7288b6')]"
      ]
     },
     "execution_count": 63,
     "metadata": {},
     "output_type": "execute_result"
    }
   ],
   "source": [
    "# Load to Database\n",
    "db.yahoo_finance_data.drop()\n",
    "\n",
    "records = json.loads(yahooDF.T.to_json()).values()\n",
    "\n",
    "db.yahoo_finance_data.insert(records)"
   ]
  },
  {
   "cell_type": "code",
   "execution_count": null,
   "metadata": {},
   "outputs": [],
   "source": []
  }
 ],
 "metadata": {
  "kernelspec": {
   "display_name": "PythonData",
   "language": "python",
   "name": "pythondata"
  },
  "language_info": {
   "codemirror_mode": {
    "name": "ipython",
    "version": 3
   },
   "file_extension": ".py",
   "mimetype": "text/x-python",
   "name": "python",
   "nbconvert_exporter": "python",
   "pygments_lexer": "ipython3",
   "version": "3.7.1"
  }
 },
 "nbformat": 4,
 "nbformat_minor": 2
}
