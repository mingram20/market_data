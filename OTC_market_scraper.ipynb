{
 "cells": [
  {
   "cell_type": "code",
   "execution_count": 1,
   "metadata": {},
   "outputs": [],
   "source": [
    "from selenium import webdriver\n",
    "from selenium.webdriver.common.keys import Keys\n",
    "from bs4 import BeautifulSoup\n",
    "from selenium.webdriver.support.ui import WebDriverWait\n",
    "import pandas as pd\n",
    "import os\n",
    "import time"
   ]
  },
  {
   "cell_type": "code",
   "execution_count": 2,
   "metadata": {},
   "outputs": [],
   "source": [
    "# OTC Markets Website URL\n",
    "url = \"https://www.otcmarkets.com/market-activity/current-market/ALL/active/dollarVolume\""
   ]
  },
  {
   "cell_type": "markdown",
   "metadata": {},
   "source": [
    "## Scrape data by selenium library"
   ]
  },
  {
   "cell_type": "code",
   "execution_count": 3,
   "metadata": {},
   "outputs": [],
   "source": [
    "#For Mac user, please use \"/usr/local/bin/chromedriver\"\n",
    "driver = webdriver.Chrome('/usr/local/bin/chromedriver')\n",
    "#For Windows user, please use \"chromedriver.exe\"\n",
    "#driver = webdriver.Chrome('chromedriver.exe')\n",
    "\n",
    "driver.get(url)\n",
    "soup = BeautifulSoup(driver.page_source,'lxml') #Currently, soup only has 25 rows data in web table"
   ]
  },
  {
   "cell_type": "code",
   "execution_count": 4,
   "metadata": {},
   "outputs": [
    {
     "name": "stdout",
     "output_type": "stream",
     "text": [
      "18509\n"
     ]
    }
   ],
   "source": [
    "# Scrape how much rows in web table\n",
    "title = soup.title.text\n",
    "most_active_stocks_no = soup.find(\"div\", {\"class\": \"_12doApv4EC\"}).text[17:22]\n",
    "print(most_active_stocks_no)"
   ]
  },
  {
   "cell_type": "code",
   "execution_count": 5,
   "metadata": {},
   "outputs": [],
   "source": [
    "#We decide to only collect top 4000 Volume of most active companies.\n",
    "#We let code to click \"MORE\" buttomn several times to get top 4000 rows.\n",
    "#It takes around 6 mins to fully excute this cell code.\n",
    "for x in range(0, (int(4000/25)-1)):\n",
    "     \n",
    "    python_button = driver.find_element_by_class_name('_2sFaw3zGf1')\n",
    "    python_button.click()\n",
    "    \n",
    "    time.sleep(2)\n"
   ]
  },
  {
   "cell_type": "code",
   "execution_count": 6,
   "metadata": {},
   "outputs": [],
   "source": [
    "#Need to run soup agian to get top 4000 row data from the browser which is clicked for several times by code.\n",
    "soup = BeautifulSoup(driver.page_source,'lxml')"
   ]
  },
  {
   "cell_type": "code",
   "execution_count": 7,
   "metadata": {},
   "outputs": [],
   "source": [
    "OTC_list = []\n",
    "TIER_list = []\n",
    "\n",
    "#To scrape TIER link\n",
    "tier_column = soup.findAll(\"div\", {\"class\": \"_2_IqcDGekT\"})\n",
    "#To scrape Table\n",
    "table_rows = soup.find_all('tr')\n",
    "\n",
    "#To scrape the TIER (ps,qb,qx....) from the link\n",
    "for t in tier_column:\n",
    "        TIER_list.append(t.img[\"src\"].split(\"/\")[3].split(\".\")[0])\n",
    "\n",
    "#To scrape the data in the table\n",
    "for tr in table_rows:\n",
    "            td = tr.find_all('td')\n",
    "            row = [tr.text for tr in td]\n",
    "            OTC_list.append(row)\n",
    "\n",
    "driver.quit()"
   ]
  },
  {
   "cell_type": "code",
   "execution_count": 8,
   "metadata": {},
   "outputs": [
    {
     "data": {
      "text/html": [
       "<div>\n",
       "<style scoped>\n",
       "    .dataframe tbody tr th:only-of-type {\n",
       "        vertical-align: middle;\n",
       "    }\n",
       "\n",
       "    .dataframe tbody tr th {\n",
       "        vertical-align: top;\n",
       "    }\n",
       "\n",
       "    .dataframe thead th {\n",
       "        text-align: right;\n",
       "    }\n",
       "</style>\n",
       "<table border=\"1\" class=\"dataframe\">\n",
       "  <thead>\n",
       "    <tr style=\"text-align: right;\">\n",
       "      <th></th>\n",
       "      <th>TIER</th>\n",
       "    </tr>\n",
       "  </thead>\n",
       "  <tbody>\n",
       "    <tr>\n",
       "      <th>1</th>\n",
       "      <td>ps</td>\n",
       "    </tr>\n",
       "    <tr>\n",
       "      <th>2</th>\n",
       "      <td>ps</td>\n",
       "    </tr>\n",
       "    <tr>\n",
       "      <th>3</th>\n",
       "      <td>ps</td>\n",
       "    </tr>\n",
       "    <tr>\n",
       "      <th>4</th>\n",
       "      <td>qx</td>\n",
       "    </tr>\n",
       "    <tr>\n",
       "      <th>5</th>\n",
       "      <td>qx</td>\n",
       "    </tr>\n",
       "  </tbody>\n",
       "</table>\n",
       "</div>"
      ],
      "text/plain": [
       "  TIER\n",
       "1   ps\n",
       "2   ps\n",
       "3   ps\n",
       "4   qx\n",
       "5   qx"
      ]
     },
     "execution_count": 8,
     "metadata": {},
     "output_type": "execute_result"
    }
   ],
   "source": [
    "# Convert the TIER list into a DataFrame\n",
    "TIER = pd.DataFrame(TIER_list, columns=[\"TIER\"])\n",
    "TIER.index += 1\n",
    "TIER.head()"
   ]
  },
  {
   "cell_type": "code",
   "execution_count": 9,
   "metadata": {},
   "outputs": [
    {
     "data": {
      "text/html": [
       "<div>\n",
       "<style scoped>\n",
       "    .dataframe tbody tr th:only-of-type {\n",
       "        vertical-align: middle;\n",
       "    }\n",
       "\n",
       "    .dataframe tbody tr th {\n",
       "        vertical-align: top;\n",
       "    }\n",
       "\n",
       "    .dataframe thead th {\n",
       "        text-align: right;\n",
       "    }\n",
       "</style>\n",
       "<table border=\"1\" class=\"dataframe\">\n",
       "  <thead>\n",
       "    <tr style=\"text-align: right;\">\n",
       "      <th></th>\n",
       "      <th>SYMBOL</th>\n",
       "      <th>PRICE</th>\n",
       "      <th>CHANGE_PERCENT</th>\n",
       "      <th>VOL</th>\n",
       "      <th>SHARE_VOL</th>\n",
       "      <th>TRADES</th>\n",
       "    </tr>\n",
       "  </thead>\n",
       "  <tbody>\n",
       "    <tr>\n",
       "      <th>1</th>\n",
       "      <td>TCEHY</td>\n",
       "      <td>49.76</td>\n",
       "      <td>+1.10</td>\n",
       "      <td>100,474,741</td>\n",
       "      <td>2,015,981</td>\n",
       "      <td>5,064</td>\n",
       "    </tr>\n",
       "    <tr>\n",
       "      <th>2</th>\n",
       "      <td>IDEXY</td>\n",
       "      <td>14.70</td>\n",
       "      <td>+0.62</td>\n",
       "      <td>56,714,077</td>\n",
       "      <td>3,872,068</td>\n",
       "      <td>302</td>\n",
       "    </tr>\n",
       "    <tr>\n",
       "      <th>3</th>\n",
       "      <td>SFTBY</td>\n",
       "      <td>55.88</td>\n",
       "      <td>+4.84</td>\n",
       "      <td>48,413,077</td>\n",
       "      <td>875,543</td>\n",
       "      <td>2,476</td>\n",
       "    </tr>\n",
       "    <tr>\n",
       "      <th>4</th>\n",
       "      <td>RHHBY</td>\n",
       "      <td>33.23</td>\n",
       "      <td>+0.97</td>\n",
       "      <td>46,887,527</td>\n",
       "      <td>1,415,561</td>\n",
       "      <td>1,369</td>\n",
       "    </tr>\n",
       "    <tr>\n",
       "      <th>5</th>\n",
       "      <td>GBTC</td>\n",
       "      <td>7.325</td>\n",
       "      <td>+6.93</td>\n",
       "      <td>45,268,895</td>\n",
       "      <td>6,058,170</td>\n",
       "      <td>7,443</td>\n",
       "    </tr>\n",
       "  </tbody>\n",
       "</table>\n",
       "</div>"
      ],
      "text/plain": [
       "  SYMBOL  PRICE CHANGE_PERCENT          VOL  SHARE_VOL TRADES\n",
       "1  TCEHY  49.76          +1.10  100,474,741  2,015,981  5,064\n",
       "2  IDEXY  14.70          +0.62   56,714,077  3,872,068    302\n",
       "3  SFTBY  55.88          +4.84   48,413,077    875,543  2,476\n",
       "4  RHHBY  33.23          +0.97   46,887,527  1,415,561  1,369\n",
       "5   GBTC  7.325          +6.93   45,268,895  6,058,170  7,443"
      ]
     },
     "execution_count": 9,
     "metadata": {},
     "output_type": "execute_result"
    }
   ],
   "source": [
    "# Convert the OTC List into Dataframe\n",
    "OTC = pd.DataFrame(OTC_list, columns=[\"SYMBOL\", \"PRICE\", \"CHANGE_PERCENT\", \"VOL\", \"SHARE_VOL\", \"TRADES\"])\n",
    "OTC = OTC.iloc[1:]\n",
    "OTC.head()"
   ]
  },
  {
   "cell_type": "code",
   "execution_count": 10,
   "metadata": {},
   "outputs": [
    {
     "data": {
      "text/html": [
       "<div>\n",
       "<style scoped>\n",
       "    .dataframe tbody tr th:only-of-type {\n",
       "        vertical-align: middle;\n",
       "    }\n",
       "\n",
       "    .dataframe tbody tr th {\n",
       "        vertical-align: top;\n",
       "    }\n",
       "\n",
       "    .dataframe thead th {\n",
       "        text-align: right;\n",
       "    }\n",
       "</style>\n",
       "<table border=\"1\" class=\"dataframe\">\n",
       "  <thead>\n",
       "    <tr style=\"text-align: right;\">\n",
       "      <th></th>\n",
       "      <th>TIER</th>\n",
       "      <th>SYMBOL</th>\n",
       "      <th>PRICE</th>\n",
       "      <th>CHANGE_PERCENT</th>\n",
       "      <th>VOL</th>\n",
       "      <th>SHARE_VOL</th>\n",
       "      <th>TRADES</th>\n",
       "    </tr>\n",
       "  </thead>\n",
       "  <tbody>\n",
       "    <tr>\n",
       "      <th>1</th>\n",
       "      <td>ps</td>\n",
       "      <td>TCEHY</td>\n",
       "      <td>49.76</td>\n",
       "      <td>+1.10</td>\n",
       "      <td>100,474,741</td>\n",
       "      <td>2,015,981</td>\n",
       "      <td>5,064</td>\n",
       "    </tr>\n",
       "    <tr>\n",
       "      <th>2</th>\n",
       "      <td>ps</td>\n",
       "      <td>IDEXY</td>\n",
       "      <td>14.70</td>\n",
       "      <td>+0.62</td>\n",
       "      <td>56,714,077</td>\n",
       "      <td>3,872,068</td>\n",
       "      <td>302</td>\n",
       "    </tr>\n",
       "    <tr>\n",
       "      <th>3</th>\n",
       "      <td>ps</td>\n",
       "      <td>SFTBY</td>\n",
       "      <td>55.88</td>\n",
       "      <td>+4.84</td>\n",
       "      <td>48,413,077</td>\n",
       "      <td>875,543</td>\n",
       "      <td>2,476</td>\n",
       "    </tr>\n",
       "    <tr>\n",
       "      <th>4</th>\n",
       "      <td>qx</td>\n",
       "      <td>RHHBY</td>\n",
       "      <td>33.23</td>\n",
       "      <td>+0.97</td>\n",
       "      <td>46,887,527</td>\n",
       "      <td>1,415,561</td>\n",
       "      <td>1,369</td>\n",
       "    </tr>\n",
       "    <tr>\n",
       "      <th>5</th>\n",
       "      <td>qx</td>\n",
       "      <td>GBTC</td>\n",
       "      <td>7.325</td>\n",
       "      <td>+6.93</td>\n",
       "      <td>45,268,895</td>\n",
       "      <td>6,058,170</td>\n",
       "      <td>7,443</td>\n",
       "    </tr>\n",
       "  </tbody>\n",
       "</table>\n",
       "</div>"
      ],
      "text/plain": [
       "  TIER SYMBOL  PRICE CHANGE_PERCENT          VOL  SHARE_VOL TRADES\n",
       "1   ps  TCEHY  49.76          +1.10  100,474,741  2,015,981  5,064\n",
       "2   ps  IDEXY  14.70          +0.62   56,714,077  3,872,068    302\n",
       "3   ps  SFTBY  55.88          +4.84   48,413,077    875,543  2,476\n",
       "4   qx  RHHBY  33.23          +0.97   46,887,527  1,415,561  1,369\n",
       "5   qx   GBTC  7.325          +6.93   45,268,895  6,058,170  7,443"
      ]
     },
     "execution_count": 10,
     "metadata": {},
     "output_type": "execute_result"
    }
   ],
   "source": [
    "#Merge two data sets into one data set\n",
    "OTC_Markets = pd.merge(TIER, OTC, left_index=True, right_index=True)\n",
    "OTC_Markets.head()"
   ]
  },
  {
   "cell_type": "code",
   "execution_count": 11,
   "metadata": {},
   "outputs": [
    {
     "data": {
      "text/html": [
       "<div>\n",
       "<style scoped>\n",
       "    .dataframe tbody tr th:only-of-type {\n",
       "        vertical-align: middle;\n",
       "    }\n",
       "\n",
       "    .dataframe tbody tr th {\n",
       "        vertical-align: top;\n",
       "    }\n",
       "\n",
       "    .dataframe thead th {\n",
       "        text-align: right;\n",
       "    }\n",
       "</style>\n",
       "<table border=\"1\" class=\"dataframe\">\n",
       "  <thead>\n",
       "    <tr style=\"text-align: right;\">\n",
       "      <th></th>\n",
       "      <th>TIER</th>\n",
       "      <th>SYMBOL</th>\n",
       "      <th>PRICE</th>\n",
       "      <th>CHANGE_PERCENT</th>\n",
       "      <th>VOL</th>\n",
       "      <th>SHARE_VOL</th>\n",
       "      <th>TRADES</th>\n",
       "    </tr>\n",
       "  </thead>\n",
       "  <tbody>\n",
       "    <tr>\n",
       "      <th>4</th>\n",
       "      <td>qx</td>\n",
       "      <td>RHHBY</td>\n",
       "      <td>33.23</td>\n",
       "      <td>+0.97</td>\n",
       "      <td>46,887,527</td>\n",
       "      <td>1,415,561</td>\n",
       "      <td>1,369</td>\n",
       "    </tr>\n",
       "    <tr>\n",
       "      <th>5</th>\n",
       "      <td>qx</td>\n",
       "      <td>GBTC</td>\n",
       "      <td>7.325</td>\n",
       "      <td>+6.93</td>\n",
       "      <td>45,268,895</td>\n",
       "      <td>6,058,170</td>\n",
       "      <td>7,443</td>\n",
       "    </tr>\n",
       "    <tr>\n",
       "      <th>13</th>\n",
       "      <td>qb</td>\n",
       "      <td>FMCKJ</td>\n",
       "      <td>11.25</td>\n",
       "      <td>+2.27</td>\n",
       "      <td>12,268,924</td>\n",
       "      <td>843,803</td>\n",
       "      <td>293</td>\n",
       "    </tr>\n",
       "    <tr>\n",
       "      <th>20</th>\n",
       "      <td>qb</td>\n",
       "      <td>FNMAS</td>\n",
       "      <td>11.315</td>\n",
       "      <td>+1.57</td>\n",
       "      <td>8,654,586</td>\n",
       "      <td>769,755</td>\n",
       "      <td>695</td>\n",
       "    </tr>\n",
       "    <tr>\n",
       "      <th>21</th>\n",
       "      <td>qx</td>\n",
       "      <td>CURLF</td>\n",
       "      <td>10.7564</td>\n",
       "      <td>-3.22</td>\n",
       "      <td>8,470,204</td>\n",
       "      <td>772,704</td>\n",
       "      <td>2,774</td>\n",
       "    </tr>\n",
       "  </tbody>\n",
       "</table>\n",
       "</div>"
      ],
      "text/plain": [
       "   TIER SYMBOL    PRICE CHANGE_PERCENT         VOL  SHARE_VOL TRADES\n",
       "4    qx  RHHBY    33.23          +0.97  46,887,527  1,415,561  1,369\n",
       "5    qx   GBTC    7.325          +6.93  45,268,895  6,058,170  7,443\n",
       "13   qb  FMCKJ    11.25          +2.27  12,268,924    843,803    293\n",
       "20   qb  FNMAS   11.315          +1.57   8,654,586    769,755    695\n",
       "21   qx  CURLF  10.7564          -3.22   8,470,204    772,704  2,774"
      ]
     },
     "execution_count": 11,
     "metadata": {},
     "output_type": "execute_result"
    }
   ],
   "source": [
    "# Only keep qx and qb TIER which we want to know\n",
    "OTC_qxqb_Markets = OTC_Markets[(OTC_Markets.TIER == 'qb') | (OTC_Markets.TIER == 'qx')]\n",
    "OTC_qxqb_Markets.head()"
   ]
  },
  {
   "cell_type": "code",
   "execution_count": 12,
   "metadata": {},
   "outputs": [
    {
     "data": {
      "text/html": [
       "<div>\n",
       "<style scoped>\n",
       "    .dataframe tbody tr th:only-of-type {\n",
       "        vertical-align: middle;\n",
       "    }\n",
       "\n",
       "    .dataframe tbody tr th {\n",
       "        vertical-align: top;\n",
       "    }\n",
       "\n",
       "    .dataframe thead th {\n",
       "        text-align: right;\n",
       "    }\n",
       "</style>\n",
       "<table border=\"1\" class=\"dataframe\">\n",
       "  <thead>\n",
       "    <tr style=\"text-align: right;\">\n",
       "      <th></th>\n",
       "      <th>TIER</th>\n",
       "      <th>SYMBOL</th>\n",
       "      <th>PRICE</th>\n",
       "      <th>CHANGE_PERCENT</th>\n",
       "      <th>VOL</th>\n",
       "      <th>SHARE_VOL</th>\n",
       "      <th>TRADES</th>\n",
       "    </tr>\n",
       "  </thead>\n",
       "  <tbody>\n",
       "    <tr>\n",
       "      <th>1</th>\n",
       "      <td>qx</td>\n",
       "      <td>RHHBY</td>\n",
       "      <td>33.23</td>\n",
       "      <td>+0.97</td>\n",
       "      <td>46,887,527</td>\n",
       "      <td>1,415,561</td>\n",
       "      <td>1,369</td>\n",
       "    </tr>\n",
       "    <tr>\n",
       "      <th>2</th>\n",
       "      <td>qx</td>\n",
       "      <td>GBTC</td>\n",
       "      <td>7.325</td>\n",
       "      <td>+6.93</td>\n",
       "      <td>45,268,895</td>\n",
       "      <td>6,058,170</td>\n",
       "      <td>7,443</td>\n",
       "    </tr>\n",
       "    <tr>\n",
       "      <th>3</th>\n",
       "      <td>qb</td>\n",
       "      <td>FMCKJ</td>\n",
       "      <td>11.25</td>\n",
       "      <td>+2.27</td>\n",
       "      <td>12,268,924</td>\n",
       "      <td>843,803</td>\n",
       "      <td>293</td>\n",
       "    </tr>\n",
       "    <tr>\n",
       "      <th>4</th>\n",
       "      <td>qb</td>\n",
       "      <td>FNMAS</td>\n",
       "      <td>11.315</td>\n",
       "      <td>+1.57</td>\n",
       "      <td>8,654,586</td>\n",
       "      <td>769,755</td>\n",
       "      <td>695</td>\n",
       "    </tr>\n",
       "    <tr>\n",
       "      <th>5</th>\n",
       "      <td>qx</td>\n",
       "      <td>CURLF</td>\n",
       "      <td>10.7564</td>\n",
       "      <td>-3.22</td>\n",
       "      <td>8,470,204</td>\n",
       "      <td>772,704</td>\n",
       "      <td>2,774</td>\n",
       "    </tr>\n",
       "  </tbody>\n",
       "</table>\n",
       "</div>"
      ],
      "text/plain": [
       "  TIER SYMBOL    PRICE CHANGE_PERCENT         VOL  SHARE_VOL TRADES\n",
       "1   qx  RHHBY    33.23          +0.97  46,887,527  1,415,561  1,369\n",
       "2   qx   GBTC    7.325          +6.93  45,268,895  6,058,170  7,443\n",
       "3   qb  FMCKJ    11.25          +2.27  12,268,924    843,803    293\n",
       "4   qb  FNMAS   11.315          +1.57   8,654,586    769,755    695\n",
       "5   qx  CURLF  10.7564          -3.22   8,470,204    772,704  2,774"
      ]
     },
     "execution_count": 12,
     "metadata": {},
     "output_type": "execute_result"
    }
   ],
   "source": [
    "# Reset Index\n",
    "OTC_qxqb_Markets.reset_index(drop=True,inplace=True)\n",
    "OTC_qxqb_Markets.index += 1\n",
    "OTC_qxqb_Markets.head()"
   ]
  },
  {
   "cell_type": "code",
   "execution_count": 13,
   "metadata": {},
   "outputs": [],
   "source": [
    "#export csv to be backup\n",
    "file_path = os.path.join(\"data\",\"OTCmarkets4000_qx_qb.csv\")\n",
    "OTC_qxqb_Markets.to_csv(file_path, index = False)"
   ]
  },
  {
   "cell_type": "markdown",
   "metadata": {},
   "source": [
    "## Convert dataframe into Mongodb"
   ]
  },
  {
   "cell_type": "code",
   "execution_count": 14,
   "metadata": {},
   "outputs": [],
   "source": [
    "import pandas as pd\n",
    "import json\n",
    "import os\n",
    "import datetime\n",
    "import pymongo\n",
    "import pprint"
   ]
  },
  {
   "cell_type": "code",
   "execution_count": 15,
   "metadata": {},
   "outputs": [],
   "source": [
    "conn = 'mongodb://localhost:27017'\n",
    "client = pymongo.MongoClient(conn)\n",
    "\n",
    "db = client.otc_market_finance_data\n",
    "\n",
    "# Drop old DB in order to create a new one\n",
    "db.otc_market_most_active_stocks.drop()\n",
    "\n",
    "collection = db.otc_market_most_active_stocks"
   ]
  },
  {
   "cell_type": "code",
   "execution_count": 16,
   "metadata": {},
   "outputs": [
    {
     "data": {
      "text/plain": [
       "<pymongo.results.InsertManyResult at 0x11f409ec8>"
      ]
     },
     "execution_count": 16,
     "metadata": {},
     "output_type": "execute_result"
    }
   ],
   "source": [
    "records = json.loads(OTC_qxqb_Markets.T.to_json()).values()\n",
    "db.otc_market_most_active_stocks.insert_many(OTC_qxqb_Markets.to_dict('records'))"
   ]
  },
  {
   "cell_type": "code",
   "execution_count": null,
   "metadata": {},
   "outputs": [],
   "source": []
  }
 ],
 "metadata": {
  "kernelspec": {
   "display_name": "Python 3",
   "language": "python",
   "name": "python3"
  },
  "language_info": {
   "codemirror_mode": {
    "name": "ipython",
    "version": 3
   },
   "file_extension": ".py",
   "mimetype": "text/x-python",
   "name": "python",
   "nbconvert_exporter": "python",
   "pygments_lexer": "ipython3",
   "version": "3.7.2"
  }
 },
 "nbformat": 4,
 "nbformat_minor": 2
}
