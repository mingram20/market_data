{
 "cells": [
  {
   "cell_type": "code",
   "execution_count": 1,
   "metadata": {},
   "outputs": [],
   "source": [
    "# Dependencies\n",
    "from selenium import webdriver\n",
    "from selenium.webdriver.common.keys import Keys\n",
    "from selenium.webdriver.support import expected_conditions as EC\n",
    "from selenium.webdriver.common.action_chains import ActionChains\n",
    "from selenium.webdriver.common.by import By\n",
    "from bs4 import BeautifulSoup\n",
    "from bs4 import BeautifulSoup as bs\n",
    "from selenium.webdriver.support.ui import WebDriverWait\n",
    "import re\n",
    "import pandas as pd\n",
    "import os\n",
    "import time\n",
    "from splinter import Browser\n",
    "from urllib.request import urlopen\n",
    "import requests"
   ]
  },
  {
   "cell_type": "code",
   "execution_count": 2,
   "metadata": {},
   "outputs": [],
   "source": [
    "# Website URL\n",
    "url = \"https://www.otcmarkets.com/market-activity/current-market/ALL/active/dollarVolume\""
   ]
  },
  {
   "cell_type": "code",
   "execution_count": 3,
   "metadata": {},
   "outputs": [],
   "source": [
    "# Website URL Page takes 6 Seconds to load\n",
    "executable_path = {'executable_path': '/usr/local/bin/chromedriver'}\n",
    "browser = Browser('chrome', **executable_path, headless=False)\n",
    "html = \"https://www.otcmarkets.com/market-activity/current-market/ALL/active/dollarVolume\"\n",
    "browser.visit(html)\n",
    "html = browser.html\n",
    "soup = BeautifulSoup(html,'html.parser')"
   ]
  },
  {
   "cell_type": "code",
   "execution_count": 4,
   "metadata": {},
   "outputs": [
    {
     "name": "stdout",
     "output_type": "stream",
     "text": [
      "OTC Markets | Market Activity - Current Market\n"
     ]
    }
   ],
   "source": [
    "# Website hmtl page title (Wait for 6 Secs for the browser to open)\n",
    "title = soup.title.text\n",
    "print(title)"
   ]
  },
  {
   "cell_type": "code",
   "execution_count": 5,
   "metadata": {},
   "outputs": [
    {
     "name": "stdout",
     "output_type": "stream",
     "text": [
      "OTC Markets | Market Activity - Current Marketwindow.NREUM||(NREUM={}),__nr_require=function(t,e,n){function r(n){if(!e[n]){var o=e[n]={exports:{}};t[n][0].call(o.exports,function(e){return r(t[n][1][e]||e)},o,o.exports)}return e[n].exports}if(\"function\"==typeof __nr_require)return __nr_require;for(var o=0;o<n.length;o++)r(n[o]);return r}({1:[function(t,e,n){function r(t){try{c.console&&console.log(t)}catch(t){}}var o,i=t(\"ee\"),a=t(20),c={};try{o=localStorage.getItem(\"__nr_flags\").split(\",\"),console&&\"function\"==typeof console.log&&(c.console=!0,-1!==o.indexOf(\"dev\")&&(c.dev=!0),-1!==o.indexOf(\"nr_dev\")&&(c.nrDev=!0))}catch(t){}c.nrDev&&i.on(\"internal-error\",function(t){r(t.stack)}),c.dev&&i.on(\"fn-err\",function(t,e,n){r(n.stack)}),c.dev&&(r(\"NR AGENT IN DEVELOPMENT MODE\"),r(\"flags: \"+a(c,function(t,e){return t}).join(\", \")))},{}],2:[function(t,e,n){function r(t,e){var n=e?null:c.now();o(\"err\",[t,n])}var o=t(\"handle\"),i=t(21),a=t(\"ee\"),c=t(\"loader\"),s=t(\"gos\"),f=window.onerror,u=!1,d=\"nr@seenError\",p=0;c.features.err=!0,t(1),window.onerror=function(t,e,n,a,s){try{p?p-=1:r(s||new function(t,e,n){this.message=t||\"Uncaught error with no additional information\",this.sourceURL=e,this.line=n}(t,e,n),!0)}catch(t){try{o(\"ierr\",[t,c.now(),!0])}catch(t){}}return\"function\"==typeof f&&f.apply(this,i(arguments))};try{throw new Error}catch(e){\"stack\"in e&&(t(13),t(12),\"addEventListener\"in window&&t(6),c.xhrWrappable&&t(14),u=!0)}a.on(\"fn-start\",function(t,e,n){u&&(p+=1)}),a.on(\"fn-err\",function(t,e,n){u&&!n[d]&&(s(n,d,function(){return!0}),this.thrown=!0,r(n))}),a.on(\"fn-end\",function(){u&&!this.thrown&&p>0&&(p-=1)}),a.on(\"internal-error\",function(t){o(\"ierr\",[t,c.now(),!0])})},{}],3:[function(t,e,n){t(\"loader\").features.ins=!0},{}],4:[function(t,e,n){function r(){j++,L=m.hash,this[f]=v.now()}function o(){j--,m.hash!==L&&i(0,!0);var t=v.now();this[d]=~~this[d]+t-this[f],this[u]=t}function i(t,e){b.emit(\"newURL\",[\"\"+m,e])}function a(t,e){t.on(e,function(){this[e]=v.now()})}var c=\"-start\",s=\"-end\",f=\"fn\"+c,u=\"fn-end\",d=\"jsTime\",p=\"fetch\",h=\"addEventListener\",l=window,m=l.location,v=t(\"loader\");if(l[h]&&v.xhrWrappable){var w=t(10),y=t(11),b=t(8),g=t(6),x=t(13),E=t(7),P=t(14),R=t(9),O=t(\"ee\"),T=O.get(\"tracer\");t(15),v.features.spa=!0;var L,j=0;O.on(f,r),O.on(\"cb-start\",r),O.on(u,o),O.on(\"cb-end\",o),O.buffer([f,u,\"xhr-done\",\"xhr-resolved\"]),g.buffer([f]),x.buffer([\"setTimeout-end\",\"clearTimeout\"+c,f]),P.buffer([f,\"new-xhr\",\"send-xhr\"+c]),E.buffer([p+c,p+\"-done\",p+\"-body\"+c,p+\"-body\"+s]),b.buffer([\"newURL\"]),w.buffer([f]),y.buffer([\"propagate\",\"cb-start\",\"cb-end\",\"executor-err\",\"resolve\"+c]),T.buffer([f,\"no-\"+f]),R.buffer([\"new-jsonp\",\"cb-start\",\"jsonp-error\",\"jsonp-end\"]),a(P,\"send-xhr\"+c),a(O,\"xhr-resolved\"),a(O,\"xhr-done\"),a(E,p+c),a(E,p+\"-done\"),a(R,\"new-jsonp\"),a(R,\"jsonp-end\"),a(R,\"cb-start\"),b.on(\"pushState-end\",i),b.on(\"replaceState-end\",i),l[h](\"hashchange\",i,!0),l[h](\"load\",i,!0),l[h](\"popstate\",function(){i(0,j>1)},!0)}},{}],5:[function(t,e,n){function r(t){}if(window.performance&&window.performance.timing&&window.performance.getEntriesByType){var o=t(\"ee\"),i=t(\"handle\"),a=t(13),c=t(12),s=\"learResourceTimings\",f=\"addEventListener\",u=\"resourcetimingbufferfull\",d=\"fn-start\",p=t(\"loader\");p.features.stn=!0,t(8);var h=NREUM.o.EV;o.on(d,function(t,e){t[0]instanceof h&&(this.bstStart=p.now())}),o.on(\"fn-end\",function(t,e){var n=t[0];n instanceof h&&i(\"bst\",[n,e,this.bstStart,p.now()])}),a.on(d,function(t,e,n){this.bstStart=p.now(),this.bstType=n}),a.on(\"fn-end\",function(t,e){i(\"bstTimer\",[e,this.bstStart,p.now(),this.bstType])}),c.on(d,function(){this.bstStart=p.now()}),c.on(\"fn-end\",function(t,e){i(\"bstTimer\",[e,this.bstStart,p.now(),\"requestAnimationFrame\"])}),o.on(\"pushState-start\",function(t){this.time=p.now(),this.startPath=location.pathname+location.hash}),o.on(\"pushState-end\",function(t){i(\"bstHist\",[location.pathname+location.hash,this.startPath,this.time])}),f in window.performance&&(window.performance[\"c\"+s]?window.performance[f](u,function(t){i(\"bstResource\",[window.performance.getEntriesByType(\"resource\")]),window.performance[\"c\"+s]()},!1):window.performance[f](\"webkit\"+u,function(t){i(\"bstResource\",[window.performance.getEntriesByType(\"resource\")]),window.performance[\"webkitC\"+s]()},!1)),document[f](\"scroll\",r,{passive:!0}),document[f](\"keypress\",r,!1),document[f](\"click\",r,!1)}},{}],6:[function(t,e,n){function r(t){for(var e=t;e&&!e.hasOwnProperty(u);)e=Object.getPrototypeOf(e);e&&o(e)}function o(t){c.inPlace(t,[u,d],\"-\",i)}function i(t,e){return t[1]}var a=t(\"ee\").get(\"events\"),c=t(23)(a,!0),s=t(\"gos\"),f=XMLHttpRequest,u=\"addEventListener\",d=\"removeEventListener\";e.exports=a,\"getPrototypeOf\"in Object?(r(document),r(window),r(f.prototype)):f.prototype.hasOwnProperty(u)&&(o(window),o(f.prototype)),a.on(u+\"-start\",function(t,e){var n=t[1],r=s(n,\"nr@wrapped\",function(){var t={object:function(){if(\"function\"==typeof n.handleEvent)return n.handleEvent.apply(n,arguments)},function:n}[typeof n];return t?c(t,\"fn-\",null,t.name||\"anonymous\"):n});this.wrapped=t[1]=r}),a.on(d+\"-start\",function(t){t[1]=this.wrapped||t[1]})},{}],7:[function(t,e,n){function r(t,e,n){var r=t[e];\"function\"==typeof r&&(t[e]=function(){var t=r.apply(this,arguments);return o.emit(n+\"start\",arguments,t),t.then(function(e){return o.emit(n+\"end\",[null,e],t),e},function(e){throw o.emit(n+\"end\",[e],t),e})})}var o=t(\"ee\").get(\"fetch\"),i=t(20);e.exports=o;var a=window,c=\"fetch-\",s=a.Request,f=a.Response,u=a.fetch;s&&f&&u&&(i([\"arrayBuffer\",\"blob\",\"json\",\"text\",\"formData\"],function(t,e){r(s.prototype,e,\"fetch-body-\"),r(f.prototype,e,\"fetch-body-\")}),r(a,\"fetch\",c),o.on(c+\"end\",function(t,e){var n=this;e?e.clone().arrayBuffer().then(function(t){n.rxSize=t.byteLength,o.emit(c+\"done\",[null,e],n)}):o.emit(c+\"done\",[t],n)}))},{}],8:[function(t,e,n){var r=t(\"ee\").get(\"history\"),o=t(23)(r);e.exports=r,o.inPlace(window.history,[\"pushState\",\"replaceState\"],\"-\")},{}],9:[function(t,e,n){function r(t){function e(){i.emit(\"jsonp-end\",[],u),t.removeEventListener(\"load\",e,!1),t.removeEventListener(\"error\",n,!1)}function n(){i.emit(\"jsonp-error\",[],u),i.emit(\"jsonp-end\",[],u),t.removeEventListener(\"load\",e,!1),t.removeEventListener(\"error\",n,!1)}if(t&&\"string\"==typeof t.nodeName&&\"script\"===t.nodeName.toLowerCase()){if(\"function\"==typeof t.addEventListener){var r=function(t){var e=t.match(c);return e?e[1]:null}(t.src);if(r){var f=function(t){var e=t.match(s);return e&&e.length>=3?{key:e[2],parent:o(e[1],window)}:{key:t,parent:window}}(r);if(\"function\"==typeof f.parent[f.key]){var u={};a.inPlace(f.parent,[f.key],\"cb-\",u),t.addEventListener(\"load\",e,!1),t.addEventListener(\"error\",n,!1),i.emit(\"new-jsonp\",[t.src],u)}}}}}function o(t,e){var n=t.match(f),r=n[1],i=n[3];return i?o(i,e[r]):e[r]}var i=t(\"ee\").get(\"jsonp\"),a=t(23)(i);if(e.exports=i,\"addEventListener\"in window){var c=/[?&](?:callback|cb)=([^&#]+)/,s=/(.*)\\.([^.]+)/,f=/^(\\w+)(\\.|$)(.*)$/,u=[\"appendChild\",\"insertBefore\",\"replaceChild\"];a.inPlace(HTMLElement.prototype,u,\"dom-\"),a.inPlace(HTMLHeadElement.prototype,u,\"dom-\"),a.inPlace(HTMLBodyElement.prototype,u,\"dom-\"),i.on(\"dom-start\",function(t){r(t[0])})}},{}],10:[function(t,e,n){var r=t(\"ee\").get(\"mutation\"),o=t(23)(r),i=NREUM.o.MO;e.exports=r,i&&(window.MutationObserver=function(t){return this instanceof i?new i(o(t,\"fn-\")):i.apply(this,arguments)},MutationObserver.prototype=i.prototype)},{}],11:[function(t,e,n){function r(t){var e=i.context(),n=a(t,\"executor-\",e),r=new s(n);return i.context(r).getCtx=function(){return e},i.emit(\"new-promise\",[r,e],e),r}var o=t(23),i=t(\"ee\").get(\"promise\"),a=o(i),c=t(20),s=NREUM.o.PR;e.exports=i,s&&(window.Promise=r,[\"all\",\"race\"].forEach(function(t){var e=s[t];s[t]=function(n){function r(t){return function(){i.emit(\"propagate\",[null,!o],a),o=o||!t}}var o=!1;c(n,function(e,n){Promise.resolve(n).then(r(\"all\"===t),r(!1))});var a=e.apply(s,arguments);return s.resolve(a)}}),[\"resolve\",\"reject\"].forEach(function(t){var e=s[t];s[t]=function(t){var n=e.apply(s,arguments);return t!==n&&i.emit(\"propagate\",[t,!0],n),n}}),s.prototype.catch=function(t){return this.then(null,t)},s.prototype=Object.create(s.prototype,{constructor:{value:r}}),c(Object.getOwnPropertyNames(s),function(t,e){try{r[e]=s[e]}catch(t){}}),i.on(\"executor-start\",function(t){t[0]=a(t[0],\"resolve-\",this),t[1]=a(t[1],\"resolve-\",this)}),i.on(\"executor-err\",function(t,e,n){t[1](n)}),a.inPlace(s.prototype,[\"then\"],\"then-\",function(t,e){return e}),i.on(\"then-start\",function(t,e){this.promise=e,t[0]=a(t[0],\"cb-\",this),t[1]=a(t[1],\"cb-\",this)}),i.on(\"then-end\",function(t,e,n){this.nextPromise=n;var r=this.promise;i.emit(\"propagate\",[r,!0],n)}),i.on(\"cb-end\",function(t,e,n){i.emit(\"propagate\",[n,!0],this.nextPromise)}),i.on(\"propagate\",function(t,e,n){this.getCtx&&!e||(this.getCtx=function(){if(t instanceof Promise)var e=i.context(t);return e&&e.getCtx?e.getCtx():this})}),r.toString=function(){return\"\"+s})},{}],12:[function(t,e,n){var r=t(\"ee\").get(\"raf\"),o=t(23)(r),i=\"equestAnimationFrame\";e.exports=r,o.inPlace(window,[\"r\"+i,\"mozR\"+i,\"webkitR\"+i,\"msR\"+i],\"raf-\"),r.on(\"raf-start\",function(t){t[0]=o(t[0],\"fn-\")})},{}],13:[function(t,e,n){var r=t(\"ee\").get(\"timer\"),o=t(23)(r),i=\"setTimeout\",a=\"setInterval\";e.exports=r,o.inPlace(window,[i,\"setImmediate\"],i+\"-\"),o.inPlace(window,[a],a+\"-\"),o.inPlace(window,[\"clearTimeout\",\"clearImmediate\"],\"clearTimeout-\"),r.on(a+\"-start\",function(t,e,n){t[0]=o(t[0],\"fn-\",null,n)}),r.on(i+\"-start\",function(t,e,n){this.method=n,this.timerDuration=isNaN(t[1])?0:+t[1],t[0]=o(t[0],\"fn-\",this,n)})},{}],14:[function(t,e,n){function r(t,e){f.inPlace(e,[\"onreadystatechange\"],\"fn-\",a)}function o(){var t=s.context(this);this.readyState>3&&!t.resolved&&(t.resolved=!0,s.emit(\"xhr-resolved\",[],this)),f.inPlace(this,v,\"fn-\",a)}function i(){for(var t=0;t<w.length;t++)r(0,w[t]);w.length&&(w=[])}function a(t,e){return e}t(6);var c=t(\"ee\"),s=c.get(\"xhr\"),f=t(23)(s),u=NREUM.o,d=u.XHR,p=u.MO,h=u.PR,l=u.SI,m=\"readystatechange\",v=[\"onload\",\"onerror\",\"onabort\",\"onloadstart\",\"onloadend\",\"onprogress\",\"ontimeout\"],w=[];e.exports=s;var y=window.XMLHttpRequest=function(t){var e=new d(t);try{s.emit(\"new-xhr\",[e],e),e.addEventListener(m,o,!1)}catch(t){try{s.emit(\"internal-error\",[t])}catch(t){}}return e};if(function(t,e){for(var n in t)e[n]=t[n]}(d,y),y.prototype=d.prototype,f.inPlace(y.prototype,[\"open\",\"send\"],\"-xhr-\",a),s.on(\"send-xhr-start\",function(t,e){r(0,e),function(t){w.push(t),p&&(b?b.then(i):l?l(i):(g=-g,x.data=g))}(e)}),s.on(\"open-xhr-start\",r),p){var b=h&&h.resolve();if(!l&&!h){var g=1,x=document.createTextNode(g);new p(i).observe(x,{characterData:!0})}}else c.on(\"fn-end\",function(t){t[0]&&t[0].type===m||i()})},{}],15:[function(t,e,n){function r(t){var e=this.params,n=this.metrics;if(!this.ended){this.ended=!0;for(var r=0;r<f;r++)t.removeEventListener(s[r],this.listener,!1);if(!e.aborted){if(n.duration=o.now()-this.startTime,4===t.readyState){e.status=t.status;var a=function(t,e){var n=t.responseType;if(\"json\"===n&&null!==e)return e;var r=\"arraybuffer\"===n||\"blob\"===n||\"json\"===n?t.response:t.responseText;return p(r)}(t,this.lastSize);if(a&&(n.rxSize=a),this.sameOrigin){var u=t.getResponseHeader(\"X-NewRelic-App-Data\");u&&(e.cat=u.split(\", \").pop())}}else e.status=0;n.cbTime=this.cbTime,c.emit(\"xhr-done\",[t],t),i(\"xhr\",[e,n,this.startTime])}}}var o=t(\"loader\");if(o.xhrWrappable){var i=t(\"handle\"),a=t(16),c=t(\"ee\"),s=[\"load\",\"error\",\"abort\",\"timeout\"],f=s.length,u=t(\"id\"),d=t(19),p=t(18),h=window.XMLHttpRequest;o.features.xhr=!0,t(14),c.on(\"new-xhr\",function(t){var e=this;e.totalCbs=0,e.called=0,e.cbTime=0,e.end=r,e.ended=!1,e.xhrGuids={},e.lastSize=null,d&&(d>34||d<10)||window.opera||t.addEventListener(\"progress\",function(t){e.lastSize=t.loaded},!1)}),c.on(\"open-xhr-start\",function(t){this.params={method:t[0]},function(t,e){var n=a(e),r=t.params;r.host=n.hostname+\":\"+n.port,r.pathname=n.pathname,t.sameOrigin=n.sameOrigin}(this,t[1]),this.metrics={}}),c.on(\"open-xhr-end\",function(t,e){\"loader_config\"in NREUM&&\"xpid\"in NREUM.loader_config&&this.sameOrigin&&e.setRequestHeader(\"X-NewRelic-ID\",NREUM.loader_config.xpid)}),c.on(\"send-xhr-start\",function(t,e){var n=this.metrics,r=t[0],i=this;if(n&&r){var a=p(r);a&&(n.txSize=a)}this.startTime=o.now(),this.listener=function(t){try{\"abort\"===t.type&&(i.params.aborted=!0),(\"load\"!==t.type||i.called===i.totalCbs&&(i.onloadCalled||\"function\"!=typeof e.onload))&&i.end(e)}catch(t){try{c.emit(\"internal-error\",[t])}catch(t){}}};for(var u=0;u<f;u++)e.addEventListener(s[u],this.listener,!1)}),c.on(\"xhr-cb-time\",function(t,e,n){this.cbTime+=t,e?this.onloadCalled=!0:this.called+=1,this.called!==this.totalCbs||!this.onloadCalled&&\"function\"==typeof n.onload||this.end(n)}),c.on(\"xhr-load-added\",function(t,e){var n=\"\"+u(t)+!!e;this.xhrGuids&&!this.xhrGuids[n]&&(this.xhrGuids[n]=!0,this.totalCbs+=1)}),c.on(\"xhr-load-removed\",function(t,e){var n=\"\"+u(t)+!!e;this.xhrGuids&&this.xhrGuids[n]&&(delete this.xhrGuids[n],this.totalCbs-=1)}),c.on(\"addEventListener-end\",function(t,e){e instanceof h&&\"load\"===t[0]&&c.emit(\"xhr-load-added\",[t[1],t[2]],e)}),c.on(\"removeEventListener-end\",function(t,e){e instanceof h&&\"load\"===t[0]&&c.emit(\"xhr-load-removed\",[t[1],t[2]],e)}),c.on(\"fn-start\",function(t,e,n){e instanceof h&&(\"onload\"===n&&(this.onload=!0),(\"load\"===(t[0]&&t[0].type)||this.onload)&&(this.xhrCbStart=o.now()))}),c.on(\"fn-end\",function(t,e){this.xhrCbStart&&c.emit(\"xhr-cb-time\",[o.now()-this.xhrCbStart,this.onload,e],e)})}},{}],16:[function(t,e,n){e.exports=function(t){var e=document.createElement(\"a\"),n=window.location,r={};e.href=t,r.port=e.port;var o=e.href.split(\"://\");!r.port&&o[1]&&(r.port=o[1].split(\"/\")[0].split(\"@\").pop().split(\":\")[1]),r.port&&\"0\"!==r.port||(r.port=\"https\"===o[0]?\"443\":\"80\"),r.hostname=e.hostname||n.hostname,r.pathname=e.pathname,r.protocol=o[0],\"/\"!==r.pathname.charAt(0)&&(r.pathname=\"/\"+r.pathname);var i=!e.protocol||\":\"===e.protocol||e.protocol===n.protocol,a=e.hostname===document.domain&&e.port===n.port;return r.sameOrigin=i&&(!e.hostname||a),r}},{}],17:[function(t,e,n){function r(){}function o(t,e,n){return function(){return i(t,[f.now()].concat(c(arguments)),e?null:this,n),e?void 0:this}}var i=t(\"handle\"),a=t(20),c=t(21),s=t(\"ee\").get(\"tracer\"),f=t(\"loader\"),u=NREUM;void 0===window.newrelic&&(newrelic=u);a([\"setPageViewName\",\"setCustomAttribute\",\"setErrorHandler\",\"finished\",\"addToTrace\",\"inlineHit\",\"addRelease\"],function(t,e){u[e]=o(\"api-\"+e,!0,\"api\")}),u.addPageAction=o(\"api-addPageAction\",!0),u.setCurrentRouteName=o(\"api-routeName\",!0),e.exports=newrelic,u.interaction=function(){return(new r).get()};var d=r.prototype={createTracer:function(t,e){var n={},r=this,o=\"function\"==typeof e;return i(\"api-ixn-tracer\",[f.now(),t,n],r),function(){if(s.emit((o?\"\":\"no-\")+\"fn-start\",[f.now(),r,o],n),o)try{return e.apply(this,arguments)}catch(t){throw s.emit(\"fn-err\",[arguments,this,t],n),t}finally{s.emit(\"fn-end\",[f.now()],n)}}}};a(\"setName,setAttribute,save,ignore,onEnd,getContext,end,get\".split(\",\"),function(t,e){d[e]=o(\"api-ixn-\"+e)}),newrelic.noticeError=function(t){\"string\"==typeof t&&(t=new Error(t)),i(\"err\",[t,f.now()])}},{}],18:[function(t,e,n){e.exports=function(t){if(\"string\"==typeof t&&t.length)return t.length;if(\"object\"==typeof t){if(\"undefined\"!=typeof ArrayBuffer&&t instanceof ArrayBuffer&&t.byteLength)return t.byteLength;if(\"undefined\"!=typeof Blob&&t instanceof Blob&&t.size)return t.size;if(!(\"undefined\"!=typeof FormData&&t instanceof FormData))try{return JSON.stringify(t).length}catch(t){return}}}},{}],19:[function(t,e,n){var r=0,o=navigator.userAgent.match(/Firefox[\\/\\s](\\d+\\.\\d+)/);o&&(r=+o[1]),e.exports=r},{}],20:[function(t,e,n){var r=Object.prototype.hasOwnProperty;e.exports=function(t,e){var n=[],o=\"\",i=0;for(o in t)r.call(t,o)&&(n[i]=e(o,t[o]),i+=1);return n}},{}],21:[function(t,e,n){e.exports=function(t,e,n){e||(e=0),void 0===n&&(n=t?t.length:0);for(var r=-1,o=n-e||0,i=Array(o<0?0:o);++r<o;)i[r]=t[e+r];return i}},{}],22:[function(t,e,n){e.exports={exists:void 0!==window.performance&&window.performance.timing&&void 0!==window.performance.timing.navigationStart}},{}],23:[function(t,e,n){function r(t){return!(t&&t instanceof Function&&t.apply&&!t[a])}var o=t(\"ee\"),i=t(21),a=\"nr@original\",c=Object.prototype.hasOwnProperty,s=!1;e.exports=function(t,e){function n(t,e,n,o){function s(){var r,a,c,s;try{a=this,r=i(arguments),c=\"function\"==typeof n?n(r,a):n||{}}catch(t){u([t,\"\",[r,a,o],c])}f(e+\"start\",[r,a,o],c);try{return s=t.apply(a,r)}catch(t){throw f(e+\"err\",[r,a,t],c),t}finally{f(e+\"end\",[r,a,s],c)}}return r(t)?t:(e||(e=\"\"),s[a]=t,function(t,e){if(Object.defineProperty&&Object.keys)try{var n=Object.keys(t);return n.forEach(function(n){Object.defineProperty(e,n,{get:function(){return t[n]},set:function(e){return t[n]=e,e}})}),e}catch(t){u([t])}for(var r in t)c.call(t,r)&&(e[r]=t[r])}(t,s),s)}function f(n,r,o){if(!s||e){var i=s;s=!0;try{t.emit(n,r,o,e)}catch(t){u([t,n,r,o])}s=i}}function u(e){try{t.emit(\"internal-error\",e)}catch(t){}}return t||(t=o),n.inPlace=function(t,e,o,i){o||(o=\"\");var a,c,s,f=\"-\"===o.charAt(0);for(s=0;s<e.length;s++)c=e[s],a=t[c],r(a)||(t[c]=n(a,f?c+o:o,i,c))},n.flag=a,n}},{}],ee:[function(t,e,n){function r(){}function o(t){function e(t){return t&&t instanceof r?t:t?s(t,c,i):i()}function n(n,r,o,i){if(!p.aborted||i){t&&t(n,r,o);for(var a=e(o),c=h(n),s=c.length,f=0;f<s;f++)c[f].apply(a,r);var d=u[m[n]];return d&&d.push([v,n,r,a]),a}}function h(t){return l[t]||[]}var l={},m={},v={on:function(t,e){l[t]=h(t).concat(e)},emit:n,get:function(t){return d[t]=d[t]||o(n)},listeners:h,context:e,buffer:function(t,e){f(t,function(t,n){e=e||\"feature\",m[n]=e,e in u||(u[e]=[])})},abort:a,aborted:!1};return v}function i(){return new r}function a(){(u.api||u.feature)&&(p.aborted=!0,u=p.backlog={})}var c=\"nr@context\",s=t(\"gos\"),f=t(20),u={},d={},p=e.exports=o();p.backlog=u},{}],gos:[function(t,e,n){var r=Object.prototype.hasOwnProperty;e.exports=function(t,e,n){if(r.call(t,e))return t[e];var o=n();if(Object.defineProperty&&Object.keys)try{return Object.defineProperty(t,e,{value:o,writable:!0,enumerable:!1}),o}catch(t){}return t[e]=o,o}},{}],handle:[function(t,e,n){function r(t,e,n,r){o.buffer([t],r),o.emit(t,e,n)}var o=t(\"ee\").get(\"handle\");e.exports=r,r.ee=o},{}],id:[function(t,e,n){var r=1,o=\"nr@id\",i=t(\"gos\");e.exports=function(t){var e=typeof t;return!t||\"object\"!==e&&\"function\"!==e?-1:t===window?0:i(t,o,function(){return r++})}},{}],loader:[function(t,e,n){function r(){if(!b++){var t=y.info=NREUM.info,e=d.getElementsByTagName(\"script\")[0];if(setTimeout(f.abort,3e4),!(t&&t.licenseKey&&t.applicationID&&e))return f.abort();s(v,function(e,n){t[e]||(t[e]=n)}),c(\"mark\",[\"onload\",i()+y.offset],null,\"api\");var n=d.createElement(\"script\");n.src=\"https://\"+t.agent,e.parentNode.insertBefore(n,e)}}function o(){c(\"mark\",[\"domContent\",i()+y.offset],null,\"api\")}function i(){return g.exists&&performance.now?Math.round(performance.now()):(a=Math.max((new Date).getTime(),a))-y.offset}var a=(new Date).getTime(),c=t(\"handle\"),s=t(20),f=t(\"ee\"),u=window,d=u.document,p=\"addEventListener\",h=u.XMLHttpRequest,l=h&&h.prototype;NREUM.o={ST:setTimeout,SI:u.setImmediate,CT:clearTimeout,XHR:h,REQ:u.Request,EV:u.Event,PR:u.Promise,MO:u.MutationObserver};var m=\"\"+location,v={beacon:\"bam.nr-data.net\",errorBeacon:\"bam.nr-data.net\",agent:\"js-agent.newrelic.com/nr-spa-1071.min.js\"},w=h&&l&&l[p]&&!/CriOS/.test(navigator.userAgent),y=e.exports={offset:a,now:i,origin:m,features:{},xhrWrappable:w};t(17),d[p]?(d[p](\"DOMContentLoaded\",o,!1),u[p](\"load\",r,!1)):(d.attachEvent(\"onreadystatechange\",function(){\"complete\"===d.readyState&&o()}),u.attachEvent(\"onload\",r)),c(\"mark\",[\"firstbyte\",a],null,\"api\");var b=0,g=t(22)},{}]},{},[\"loader\",2,15,5,3,4]),NREUM.info={beacon:\"bam.nr-data.net\",errorBeacon:\"bam.nr-data.net\",licenseKey:\"c816f66e51\",applicationID:\"75374704\",sa:1}.slick-slider{box-sizing:border-box;-webkit-user-select:none;-moz-user-select:none;-ms-user-select:none;user-select:none;-webkit-touch-callout:none;-khtml-user-select:none;-ms-touch-action:pan-y;touch-action:pan-y;-webkit-tap-highlight-color:transparent}.slick-list,.slick-slider{position:relative;display:block}.slick-list{overflow:hidden;margin:0;padding:0}.slick-list:focus{outline:none}.slick-list.dragging{cursor:pointer;cursor:hand}.slick-slider .slick-list,.slick-slider .slick-track{-webkit-transform:translateZ(0);-moz-transform:translateZ(0);-ms-transform:translateZ(0);-o-transform:translateZ(0);transform:translateZ(0)}.slick-track{position:relative;top:0;left:0;display:block;margin-left:auto;margin-right:auto}.slick-track:after,.slick-track:before{display:table;content:\"\"}.slick-track:after{clear:both}.slick-loading .slick-track{visibility:hidden}.slick-slide{display:none;float:left;height:100%;min-height:1px}[dir=rtl] .slick-slide{float:right}.slick-slide img{display:block}.slick-slide.slick-loading img{display:none}.slick-slide.dragging img{pointer-events:none}.slick-initialized .slick-slide{display:block}.slick-loading .slick-slide{visibility:hidden}.slick-vertical .slick-slide{display:block;height:auto;border:1px solid transparent}.slick-arrow.slick-hidden{display:none}/*! normalize.css v7.0.0 | MIT License | github.com/necolas/normalize.css */html{line-height:1.15;-ms-text-size-adjust:100%;-webkit-text-size-adjust:100%}body{margin:0}article,aside,footer,header,nav,section{display:block}h1{font-size:2em;margin:.67em 0}figcaption,figure,main{display:block}figure{margin:1em 40px}hr{box-sizing:content-box;height:0;overflow:visible}pre{font-family:monospace,monospace;font-size:1em}a{background-color:transparent;-webkit-text-decoration-skip:objects}abbr[title]{border-bottom:none;text-decoration:underline;text-decoration:underline dotted}b,strong{font-weight:inherit;font-weight:bolder}code,kbd,samp{font-family:monospace,monospace;font-size:1em}dfn{font-style:italic}mark{background-color:#ff0;color:#000}small{font-size:80%}sub,sup{font-size:75%;line-height:0;position:relative;vertical-align:baseline}sub{bottom:-.25em}sup{top:-.5em}audio,video{display:inline-block}audio:not([controls]){display:none;height:0}img{border-style:none}svg:not(:root){overflow:hidden}button,input,optgroup,select,textarea{font-family:sans-serif;font-size:100%;line-height:1.15;margin:0}button,input{overflow:visible}button,select{text-transform:none}[type=reset],[type=submit],button,html [type=button]{-webkit-appearance:button}[type=button]::-moz-focus-inner,[type=reset]::-moz-focus-inner,[type=submit]::-moz-focus-inner,button::-moz-focus-inner{border-style:none;padding:0}[type=button]:-moz-focusring,[type=reset]:-moz-focusring,[type=submit]:-moz-focusring,button:-moz-focusring{outline:1px dotted ButtonText}fieldset{padding:.35em .75em .625em}legend{box-sizing:border-box;color:inherit;display:table;max-width:100%;padding:0;white-space:normal}progress{display:inline-block;vertical-align:baseline}textarea{overflow:auto}[type=checkbox],[type=radio]{box-sizing:border-box;padding:0}[type=number]::-webkit-inner-spin-button,[type=number]::-webkit-outer-spin-button{height:auto}[type=search]{-webkit-appearance:textfield;outline-offset:-2px}[type=search]::-webkit-search-cancel-button,[type=search]::-webkit-search-decoration{-webkit-appearance:none}::-webkit-file-upload-button{-webkit-appearance:button;font:inherit}details,menu{display:block}summary{display:list-item}canvas{display:inline-block}[hidden],template{display:none}\n",
      "/* sc-component-id: sc-bdVaJa */\n",
      "\n",
      ".iHZvIS{box-sizing:border-box;}\n",
      ".bsibrQ{box-sizing:border-box;width:33.33333333333333%;}\n",
      ".cVNcxV{box-sizing:border-box;width:66.66666666666666%;}\n",
      ".SHQDN{box-sizing:border-box;width:100%;}@media screen and (min-width:48em){.SHQDN{width:50%;}}@media screen and (min-width:64em){.SHQDN{width:20%;}}\n",
      ".dmWroL{box-sizing:border-box;width:100%;-webkit-flex:1 1 auto;-ms-flex:1 1 auto;flex:1 1 auto;}\n",
      ".kjdvDm{box-sizing:border-box;width:100%;}@media screen and (min-width:48em){.kjdvDm{width:50%;}}@media screen and (min-width:64em){.kjdvDm{width:25%;}}\n",
      ".gRrvFh{box-sizing:border-box;width:100%;}\n",
      ".Nsfca{box-sizing:border-box;width:0%;}@media screen and (min-width:48em){.Nsfca{width:0%;}}@media screen and (min-width:64em){.Nsfca{width:50%;}}\n",
      ".hxXTnm{box-sizing:border-box;-webkit-flex:1.5;-ms-flex:1.5;flex:1.5;}\n",
      ".kYmYWE{box-sizing:border-box;-webkit-flex:1;-ms-flex:1;flex:1;}\n",
      "/* sc-component-id: sc-htpNat */\n",
      "\n",
      ".gCQdmd{display:-webkit-box;display:-webkit-flex;display:-ms-flexbox;display:flex;-webkit-flex-direction:column;-ms-flex-direction:column;flex-direction:column;-webkit-align-items:center;-webkit-box-align:center;-ms-flex-align:center;align-items:center;}\n",
      ".cpCMxW{display:-webkit-box;display:-webkit-flex;display:-ms-flexbox;display:flex;-webkit-flex-direction:column;-ms-flex-direction:column;flex-direction:column;-webkit-align-items:stretch;-webkit-box-align:stretch;-ms-flex-align:stretch;align-items:stretch;}\n",
      ".itcwpU{display:-webkit-box;display:-webkit-flex;display:-ms-flexbox;display:flex;-webkit-align-items:baseline;-webkit-box-align:baseline;-ms-flex-align:baseline;align-items:baseline;}\n",
      ".eLQHN{display:-webkit-box;display:-webkit-flex;display:-ms-flexbox;display:flex;}\n",
      ".cPcSwG{display:-webkit-box;display:-webkit-flex;display:-ms-flexbox;display:flex;-webkit-box-pack:end;-webkit-justify-content:flex-end;-ms-flex-pack:end;justify-content:flex-end;}\n",
      ".jtWIOA{display:-webkit-box;display:-webkit-flex;display:-ms-flexbox;display:flex;-webkit-flex-wrap:wrap;-ms-flex-wrap:wrap;flex-wrap:wrap;}\n",
      ".dUcLpt{display:-webkit-box;display:-webkit-flex;display:-ms-flexbox;display:flex;-webkit-align-items:center;-webkit-box-align:center;-ms-flex-align:center;align-items:center;-webkit-box-pack:justify;-webkit-justify-content:space-between;-ms-flex-pack:justify;justify-content:space-between;}\n",
      ".fzUmoZ{display:-webkit-box;display:-webkit-flex;display:-ms-flexbox;display:flex;-webkit-flex-wrap:wrap;-ms-flex-wrap:wrap;flex-wrap:wrap;-webkit-align-items:center;-webkit-box-align:center;-ms-flex-align:center;align-items:center;}\n",
      ".iSNGhk{display:-webkit-box;display:-webkit-flex;display:-ms-flexbox;display:flex;-webkit-align-items:center;-webkit-box-align:center;-ms-flex-align:center;align-items:center;}\n",
      ".ePIcKj{display:-webkit-box;display:-webkit-flex;display:-ms-flexbox;display:flex;-webkit-box-pack:space-around;-webkit-justify-content:space-around;-ms-flex-pack:space-around;justify-content:space-around;}\n",
      ".pyeRb{display:-webkit-box;display:-webkit-flex;display:-ms-flexbox;display:flex;-webkit-flex-direction:column;-ms-flex-direction:column;flex-direction:column;}\n",
      ".isBdaC{display:-webkit-box;display:-webkit-flex;display:-ms-flexbox;display:flex;-webkit-align-items:center;-webkit-box-align:center;-ms-flex-align:center;align-items:center;-webkit-box-pack:center;-webkit-justify-content:center;-ms-flex-pack:center;justify-content:center;}You need to enable JavaScript to run this app.AboutBlogOTCIQIQMarket ActivityMarket ActivityCurrent MarketClosing SummaryBroker Dealer DataCompliance StatisticsCorporate ActionsOTCM IndicesNewsShort Interest DataReg SHO DataStock ScreenerCorporate ServicesCorporate ServicesOverviewWhy OTC Markets GroupWhen To Consider?Get Started: OTCQX & OTCQBOTCQX InternationalOTCQX U.S.OTCQX U.S. BanksOTCQBProductsDisclosure & News ServiceIssuer Direct SolutionsReal-Time Level 2 DataBlue SkyVirtual Investor ConferencesOTCIQMorningstar ReportsInformation for Pink CompaniesPremium Provider DirectoryBecome a SponsorTransfer Agent Verified Shares ProgramWhitepapersOTCQXThe JOBS ActInternationalInvestor Relations StrategyRegulatory UpdatesCompany DirectoryOTCQX SponsorsQualified Foreign ExchangeOTC Link ATSOTC Link ATSOverviewConnectionsAgreements & FormsATS VolumeOTC Link ECNBroker Dealer DirectoryMarket DataMarket DataOverviewReal-Time Data ProductsLevel 1 / Level 2 Data ProductsReference & Pricing Data ProductsCompany DataSecurity DataEnd-of-Day DataCompliance Data ProductsCompliance AnalyticsCanariSmall Cap ComplianceCompliance DataPromotion DataQuote History DataQaravan Bank DataAgreements & FormsTechnical & User DocumentationFee ScheduleFAQsLearnLearnMarket 101Market StructureTradingRegulationGetting TradedReporting StandardsInvestor ProtectionCaveat Emptor PolicyPolicy on Stock PromotionFINRA / SEC RulesPublic Policy AdvocacyFAQsService ProvidersProhibited Service ProvidersAboutAboutOur CompanyPress CenterInvestor RelationsEventsNewsletterBlogLoading...   Stock ScreenerOTC MarketsTotalsSecurities10,669Dollar Vol$1.1BShare Vol5.1BTrades168,586Market ActivityCurrent MarketMost ActiveCurrent MarketBackAll MarketsAll MarketsOTCQXOTCQBPinkGrey$ Volume1,087,637,687Share Volume5,066,561,126Trades168,586Advancers1,923Decliners1,32905/03/2019 08:25 pmSubscribe to Our NewsletterStay up to date on the latest company news, industry trends and regulatory changes that affect our markets and learn about members of our community.Sign UpMost Active$ VolumeShare VolumeTradesSymbolSymPricePrice% Change% Change$ Vol$ VolShare VolShare VolTradesTradesTCEHY49.76+1.10100,474,7412,015,9815,064IDEXY14.70+0.6256,714,0773,872,068302SFTBY55.88+4.8448,413,077875,5432,476RHHBY33.23+0.9746,887,5271,415,5611,369GBTC7.325+6.9345,268,8956,058,1707,443NPSNY52.01+2.5829,216,139563,368965NSRGY95.76+0.1226,177,089273,5081,453SAPGF127.24+1.7125,517,105200,55812LVMUY79.85+1.9923,833,505300,198552LUKOY83.8375-1.0319,993,180237,930220MPNGF7.10-0.7014,083,3912,008,43812PSGTY16.70-5.8112,386,227740,346120FMCKJ11.25+2.2712,268,924843,803293TSCDY9.93+0.8111,798,1441,181,746189MKKGY21.36+0.5211,672,498545,804136BAYRY17.33+0.359,757,111563,0041,327RYDAF32.15-0.289,710,695299,7349HENKY24.35+1.939,324,731384,08671NTDOY43.535+1.408,942,761206,4261,812FNMAS11.315+1.578,654,586769,755695CURLF10.7564-3.228,470,204772,7042,774AMSYF21.095-2.707,995,448380,0003DTEGY16.70-0.607,929,818474,330430RHHVF265.75+1.337,167,77227,0026RYCEY12.455+2.766,959,747560,083156More Displaying 25 of 18509 Most Active1Intraday activity delayed 15 minutes. Closing data is displayed from 4 PM to 9 AM on trading days and all day on Saturday, Sunday and Holidays.Loading...SymbolOTCMLast36.98Change1.52 (4.29%)Bid36.80Ask36.98Volume1152Time00:00ContactCareersMarket HoursGlossary© 2019 OTC Markets Group Inc.Terms of ServiceLinking TermsTrademarksPrivacy StatementRisk WarningSupported Browsers\n"
     ]
    }
   ],
   "source": [
    "# Print formatted version of the soup\n",
    "print(soup.text)"
   ]
  },
  {
   "cell_type": "code",
   "execution_count": 6,
   "metadata": {},
   "outputs": [
    {
     "data": {
      "text/plain": [
       "['Displaying', '25', 'of', '18509', 'Most', 'Active']"
      ]
     },
     "execution_count": 6,
     "metadata": {},
     "output_type": "execute_result"
    }
   ],
   "source": [
    "# Extract Most Active Stocks html class\n",
    "most_active_stocks = soup.find(\"div\", {\"class\": \"_12doApv4EC\"}).text\n",
    "most_active_stocks.split(\" \")"
   ]
  },
  {
   "cell_type": "code",
   "execution_count": 7,
   "metadata": {},
   "outputs": [
    {
     "data": {
      "text/plain": [
       "25"
      ]
     },
     "execution_count": 7,
     "metadata": {},
     "output_type": "execute_result"
    }
   ],
   "source": [
    "# Each page contains 25 Records, therefore index [1] = # of Displayed Records, Index [3] = Total Number of Displayed Records\n",
    "# displayed_records represent the Number of Displayed Records (index [1])\n",
    "displayed_records = int(most_active_stocks.split(\" \")[1])\n",
    "displayed_records"
   ]
  },
  {
   "cell_type": "code",
   "execution_count": 8,
   "metadata": {},
   "outputs": [
    {
     "data": {
      "text/plain": [
       "18509"
      ]
     },
     "execution_count": 8,
     "metadata": {},
     "output_type": "execute_result"
    }
   ],
   "source": [
    "# total_displayed_records represent the Total Number of Displayed Records (Index [3])\n",
    "total_displayed_records = int(most_active_stocks.split(\" \")[3])\n",
    "total_displayed_records"
   ]
  },
  {
   "cell_type": "code",
   "execution_count": 9,
   "metadata": {},
   "outputs": [
    {
     "data": {
      "text/plain": [
       "160"
      ]
     },
     "execution_count": 9,
     "metadata": {},
     "output_type": "execute_result"
    }
   ],
   "source": [
    "# After testing the website several times, the best number you can extract is 8,000 Records \n",
    "# where each page contains 25 records, therefore 4000/25 = 160 Pages \n",
    "# Once the driver opens the page 25 Records\n",
    "records = 4000 \n",
    "total_pages = int(records/25) \n",
    "total_pages"
   ]
  },
  {
   "cell_type": "code",
   "execution_count": 57,
   "metadata": {},
   "outputs": [],
   "source": [
    "# Request to open the browser and wait for 6 secs\n",
    "\n",
    "driver = webdriver.Chrome('/usr/local/bin/chromedriver')\n",
    "driver.get(url)\n",
    "time.sleep(6)"
   ]
  },
  {
   "cell_type": "code",
   "execution_count": 58,
   "metadata": {},
   "outputs": [],
   "source": [
    "soup_loop = BeautifulSoup(html,'html.parser')"
   ]
  },
  {
   "cell_type": "code",
   "execution_count": 59,
   "metadata": {},
   "outputs": [],
   "source": [
    "# Press the \"More\" button if found, class_name _2sFaw3zGf1\n",
    "\n",
    "\n",
    "for x in range(1, total_pages):\n",
    "        \n",
    "        wait = WebDriverWait(driver, 30)\n",
    "\n",
    "        python_button = wait.until(EC.element_to_be_clickable((By.CLASS_NAME, \"_2sFaw3zGf1\")))\n",
    "        ActionChains(driver).move_to_element(python_button).click().perform()\n"
   ]
  },
  {
   "cell_type": "code",
   "execution_count": 65,
   "metadata": {},
   "outputs": [],
   "source": [
    "soup_loop = BeautifulSoup(driver.page_source,'html.parser')"
   ]
  },
  {
   "cell_type": "code",
   "execution_count": 66,
   "metadata": {},
   "outputs": [],
   "source": [
    "# Find all div class \"_2_IqcDGekT\" to look for the TIER (Logo Column)\n",
    "## Loop through the Table and append to the OTC\n",
    "### Click on the More button to open all the stock pages (More Button 'Class=\"_12doApv4EC\"')  _2sFaw3zGf1\n",
    "#### Add \"most_active_stocks_no\" instead of \"5\" (Each page has 25 Records, Range 5 stops at 150 records) \n",
    "\n",
    "# TIER List contains the continas the following columns qx, qb, ps\n",
    "TIER_list = []\n",
    "\n",
    "# OTC List  contains the following columns SYMBOL, PRICE, % CHANGE, $ VOL, SHARE_VOL & TRADES\n",
    "OTC_list = []\n",
    "\n",
    "tier_column = soup_loop.findAll(\"div\", {\"class\": \"_2_IqcDGekT\"})\n",
    "\n",
    "table_rows = soup_loop.find_all('tr')\n",
    "\n",
    "# Loop through the page and append records in the OTC_list & TIER_Lits\n",
    "\n",
    "for t in tier_column:\n",
    "    TIER_list.append(t.img[\"src\"][12:14])\n",
    "    \n",
    "for tr in table_rows:\n",
    "    td = tr.find_all('td')\n",
    "    row = [tr.text for tr in td]\n",
    "    OTC_list.append(row)"
   ]
  },
  {
   "cell_type": "code",
   "execution_count": 75,
   "metadata": {},
   "outputs": [
    {
     "data": {
      "text/html": [
       "<div>\n",
       "<style scoped>\n",
       "    .dataframe tbody tr th:only-of-type {\n",
       "        vertical-align: middle;\n",
       "    }\n",
       "\n",
       "    .dataframe tbody tr th {\n",
       "        vertical-align: top;\n",
       "    }\n",
       "\n",
       "    .dataframe thead th {\n",
       "        text-align: right;\n",
       "    }\n",
       "</style>\n",
       "<table border=\"1\" class=\"dataframe\">\n",
       "  <thead>\n",
       "    <tr style=\"text-align: right;\">\n",
       "      <th></th>\n",
       "      <th>TIER</th>\n",
       "    </tr>\n",
       "  </thead>\n",
       "  <tbody>\n",
       "    <tr>\n",
       "      <th>0</th>\n",
       "      <td>ps</td>\n",
       "    </tr>\n",
       "    <tr>\n",
       "      <th>1</th>\n",
       "      <td>ps</td>\n",
       "    </tr>\n",
       "    <tr>\n",
       "      <th>2</th>\n",
       "      <td>ps</td>\n",
       "    </tr>\n",
       "    <tr>\n",
       "      <th>3</th>\n",
       "      <td>qx</td>\n",
       "    </tr>\n",
       "    <tr>\n",
       "      <th>4</th>\n",
       "      <td>qx</td>\n",
       "    </tr>\n",
       "  </tbody>\n",
       "</table>\n",
       "</div>"
      ],
      "text/plain": [
       "  TIER\n",
       "0   ps\n",
       "1   ps\n",
       "2   ps\n",
       "3   qx\n",
       "4   qx"
      ]
     },
     "execution_count": 75,
     "metadata": {},
     "output_type": "execute_result"
    }
   ],
   "source": [
    "# Convert TIER List to Dataframe\n",
    "TIER = pd.DataFrame(TIER_list, columns=[\"TIER\"])\n",
    "TIER.head()"
   ]
  },
  {
   "cell_type": "code",
   "execution_count": 76,
   "metadata": {},
   "outputs": [
    {
     "data": {
      "text/html": [
       "<div>\n",
       "<style scoped>\n",
       "    .dataframe tbody tr th:only-of-type {\n",
       "        vertical-align: middle;\n",
       "    }\n",
       "\n",
       "    .dataframe tbody tr th {\n",
       "        vertical-align: top;\n",
       "    }\n",
       "\n",
       "    .dataframe thead th {\n",
       "        text-align: right;\n",
       "    }\n",
       "</style>\n",
       "<table border=\"1\" class=\"dataframe\">\n",
       "  <thead>\n",
       "    <tr style=\"text-align: right;\">\n",
       "      <th></th>\n",
       "      <th>TIER</th>\n",
       "    </tr>\n",
       "  </thead>\n",
       "  <tbody>\n",
       "    <tr>\n",
       "      <th>1</th>\n",
       "      <td>ps</td>\n",
       "    </tr>\n",
       "    <tr>\n",
       "      <th>2</th>\n",
       "      <td>ps</td>\n",
       "    </tr>\n",
       "    <tr>\n",
       "      <th>3</th>\n",
       "      <td>ps</td>\n",
       "    </tr>\n",
       "    <tr>\n",
       "      <th>4</th>\n",
       "      <td>qx</td>\n",
       "    </tr>\n",
       "    <tr>\n",
       "      <th>5</th>\n",
       "      <td>qx</td>\n",
       "    </tr>\n",
       "  </tbody>\n",
       "</table>\n",
       "</div>"
      ],
      "text/plain": [
       "  TIER\n",
       "1   ps\n",
       "2   ps\n",
       "3   ps\n",
       "4   qx\n",
       "5   qx"
      ]
     },
     "execution_count": 76,
     "metadata": {},
     "output_type": "execute_result"
    }
   ],
   "source": [
    "# Re-number the index\n",
    "TIER.index += 1\n",
    "TIER.head()"
   ]
  },
  {
   "cell_type": "code",
   "execution_count": 77,
   "metadata": {},
   "outputs": [
    {
     "data": {
      "text/html": [
       "<div>\n",
       "<style scoped>\n",
       "    .dataframe tbody tr th:only-of-type {\n",
       "        vertical-align: middle;\n",
       "    }\n",
       "\n",
       "    .dataframe tbody tr th {\n",
       "        vertical-align: top;\n",
       "    }\n",
       "\n",
       "    .dataframe thead th {\n",
       "        text-align: right;\n",
       "    }\n",
       "</style>\n",
       "<table border=\"1\" class=\"dataframe\">\n",
       "  <thead>\n",
       "    <tr style=\"text-align: right;\">\n",
       "      <th></th>\n",
       "      <th>SYMBOL</th>\n",
       "      <th>PRICE</th>\n",
       "      <th>Per_CHANGE</th>\n",
       "      <th>VOL</th>\n",
       "      <th>SHARE_VOL</th>\n",
       "      <th>TRADES</th>\n",
       "    </tr>\n",
       "  </thead>\n",
       "  <tbody>\n",
       "    <tr>\n",
       "      <th>0</th>\n",
       "      <td>None</td>\n",
       "      <td>None</td>\n",
       "      <td>None</td>\n",
       "      <td>None</td>\n",
       "      <td>None</td>\n",
       "      <td>None</td>\n",
       "    </tr>\n",
       "    <tr>\n",
       "      <th>1</th>\n",
       "      <td>TCEHY</td>\n",
       "      <td>49.76</td>\n",
       "      <td>+1.10</td>\n",
       "      <td>100,474,741</td>\n",
       "      <td>2,015,981</td>\n",
       "      <td>5,064</td>\n",
       "    </tr>\n",
       "    <tr>\n",
       "      <th>2</th>\n",
       "      <td>IDEXY</td>\n",
       "      <td>14.70</td>\n",
       "      <td>+0.62</td>\n",
       "      <td>56,714,077</td>\n",
       "      <td>3,872,068</td>\n",
       "      <td>302</td>\n",
       "    </tr>\n",
       "    <tr>\n",
       "      <th>3</th>\n",
       "      <td>SFTBY</td>\n",
       "      <td>55.88</td>\n",
       "      <td>+4.84</td>\n",
       "      <td>48,413,077</td>\n",
       "      <td>875,543</td>\n",
       "      <td>2,476</td>\n",
       "    </tr>\n",
       "    <tr>\n",
       "      <th>4</th>\n",
       "      <td>RHHBY</td>\n",
       "      <td>33.23</td>\n",
       "      <td>+0.97</td>\n",
       "      <td>46,887,527</td>\n",
       "      <td>1,415,561</td>\n",
       "      <td>1,369</td>\n",
       "    </tr>\n",
       "  </tbody>\n",
       "</table>\n",
       "</div>"
      ],
      "text/plain": [
       "  SYMBOL  PRICE Per_CHANGE          VOL  SHARE_VOL TRADES\n",
       "0   None   None       None         None       None   None\n",
       "1  TCEHY  49.76      +1.10  100,474,741  2,015,981  5,064\n",
       "2  IDEXY  14.70      +0.62   56,714,077  3,872,068    302\n",
       "3  SFTBY  55.88      +4.84   48,413,077    875,543  2,476\n",
       "4  RHHBY  33.23      +0.97   46,887,527  1,415,561  1,369"
      ]
     },
     "execution_count": 77,
     "metadata": {},
     "output_type": "execute_result"
    }
   ],
   "source": [
    "# Convert the OTC List into Dataframe\n",
    "OTC = pd.DataFrame(OTC_list, columns=[\"SYMBOL\", \"PRICE\", \"Per_CHANGE\", \"VOL\", \"SHARE_VOL\", \"TRADES\"])\n",
    "OTC.head()"
   ]
  },
  {
   "cell_type": "code",
   "execution_count": 78,
   "metadata": {},
   "outputs": [
    {
     "data": {
      "text/html": [
       "<div>\n",
       "<style scoped>\n",
       "    .dataframe tbody tr th:only-of-type {\n",
       "        vertical-align: middle;\n",
       "    }\n",
       "\n",
       "    .dataframe tbody tr th {\n",
       "        vertical-align: top;\n",
       "    }\n",
       "\n",
       "    .dataframe thead th {\n",
       "        text-align: right;\n",
       "    }\n",
       "</style>\n",
       "<table border=\"1\" class=\"dataframe\">\n",
       "  <thead>\n",
       "    <tr style=\"text-align: right;\">\n",
       "      <th></th>\n",
       "      <th>SYMBOL</th>\n",
       "      <th>PRICE</th>\n",
       "      <th>Per_CHANGE</th>\n",
       "      <th>VOL</th>\n",
       "      <th>SHARE_VOL</th>\n",
       "      <th>TRADES</th>\n",
       "    </tr>\n",
       "  </thead>\n",
       "  <tbody>\n",
       "    <tr>\n",
       "      <th>1</th>\n",
       "      <td>TCEHY</td>\n",
       "      <td>49.76</td>\n",
       "      <td>+1.10</td>\n",
       "      <td>100,474,741</td>\n",
       "      <td>2,015,981</td>\n",
       "      <td>5,064</td>\n",
       "    </tr>\n",
       "    <tr>\n",
       "      <th>2</th>\n",
       "      <td>IDEXY</td>\n",
       "      <td>14.70</td>\n",
       "      <td>+0.62</td>\n",
       "      <td>56,714,077</td>\n",
       "      <td>3,872,068</td>\n",
       "      <td>302</td>\n",
       "    </tr>\n",
       "    <tr>\n",
       "      <th>3</th>\n",
       "      <td>SFTBY</td>\n",
       "      <td>55.88</td>\n",
       "      <td>+4.84</td>\n",
       "      <td>48,413,077</td>\n",
       "      <td>875,543</td>\n",
       "      <td>2,476</td>\n",
       "    </tr>\n",
       "    <tr>\n",
       "      <th>4</th>\n",
       "      <td>RHHBY</td>\n",
       "      <td>33.23</td>\n",
       "      <td>+0.97</td>\n",
       "      <td>46,887,527</td>\n",
       "      <td>1,415,561</td>\n",
       "      <td>1,369</td>\n",
       "    </tr>\n",
       "    <tr>\n",
       "      <th>5</th>\n",
       "      <td>GBTC</td>\n",
       "      <td>7.325</td>\n",
       "      <td>+6.93</td>\n",
       "      <td>45,268,895</td>\n",
       "      <td>6,058,170</td>\n",
       "      <td>7,443</td>\n",
       "    </tr>\n",
       "  </tbody>\n",
       "</table>\n",
       "</div>"
      ],
      "text/plain": [
       "  SYMBOL  PRICE Per_CHANGE          VOL  SHARE_VOL TRADES\n",
       "1  TCEHY  49.76      +1.10  100,474,741  2,015,981  5,064\n",
       "2  IDEXY  14.70      +0.62   56,714,077  3,872,068    302\n",
       "3  SFTBY  55.88      +4.84   48,413,077    875,543  2,476\n",
       "4  RHHBY  33.23      +0.97   46,887,527  1,415,561  1,369\n",
       "5   GBTC  7.325      +6.93   45,268,895  6,058,170  7,443"
      ]
     },
     "execution_count": 78,
     "metadata": {},
     "output_type": "execute_result"
    }
   ],
   "source": [
    "# Dropping the first OTC df row\n",
    "OTC = OTC.iloc[1:]\n",
    "OTC.head()"
   ]
  },
  {
   "cell_type": "code",
   "execution_count": 80,
   "metadata": {},
   "outputs": [
    {
     "data": {
      "text/plain": [
       "TIER    4000\n",
       "dtype: int64"
      ]
     },
     "execution_count": 80,
     "metadata": {},
     "output_type": "execute_result"
    }
   ],
   "source": [
    "# Count\n",
    "TIER.count()"
   ]
  },
  {
   "cell_type": "code",
   "execution_count": 81,
   "metadata": {},
   "outputs": [
    {
     "data": {
      "text/plain": [
       "TIER          4000\n",
       "SYMBOL        4000\n",
       "PRICE         4000\n",
       "Per_CHANGE    4000\n",
       "VOL           4000\n",
       "SHARE_VOL     4000\n",
       "TRADES        4000\n",
       "dtype: int64"
      ]
     },
     "execution_count": 81,
     "metadata": {},
     "output_type": "execute_result"
    }
   ],
   "source": [
    "# Count \n",
    "OTC_Markets.count()"
   ]
  },
  {
   "cell_type": "code",
   "execution_count": 82,
   "metadata": {},
   "outputs": [
    {
     "data": {
      "text/html": [
       "<div>\n",
       "<style scoped>\n",
       "    .dataframe tbody tr th:only-of-type {\n",
       "        vertical-align: middle;\n",
       "    }\n",
       "\n",
       "    .dataframe tbody tr th {\n",
       "        vertical-align: top;\n",
       "    }\n",
       "\n",
       "    .dataframe thead th {\n",
       "        text-align: right;\n",
       "    }\n",
       "</style>\n",
       "<table border=\"1\" class=\"dataframe\">\n",
       "  <thead>\n",
       "    <tr style=\"text-align: right;\">\n",
       "      <th></th>\n",
       "      <th>TIER</th>\n",
       "      <th>SYMBOL</th>\n",
       "      <th>PRICE</th>\n",
       "      <th>Per_CHANGE</th>\n",
       "      <th>VOL</th>\n",
       "      <th>SHARE_VOL</th>\n",
       "      <th>TRADES</th>\n",
       "    </tr>\n",
       "  </thead>\n",
       "  <tbody>\n",
       "    <tr>\n",
       "      <th>1</th>\n",
       "      <td>ps</td>\n",
       "      <td>TCEHY</td>\n",
       "      <td>49.76</td>\n",
       "      <td>+1.10</td>\n",
       "      <td>100,474,741</td>\n",
       "      <td>2,015,981</td>\n",
       "      <td>5,064</td>\n",
       "    </tr>\n",
       "    <tr>\n",
       "      <th>2</th>\n",
       "      <td>ps</td>\n",
       "      <td>IDEXY</td>\n",
       "      <td>14.70</td>\n",
       "      <td>+0.62</td>\n",
       "      <td>56,714,077</td>\n",
       "      <td>3,872,068</td>\n",
       "      <td>302</td>\n",
       "    </tr>\n",
       "    <tr>\n",
       "      <th>3</th>\n",
       "      <td>ps</td>\n",
       "      <td>SFTBY</td>\n",
       "      <td>55.88</td>\n",
       "      <td>+4.84</td>\n",
       "      <td>48,413,077</td>\n",
       "      <td>875,543</td>\n",
       "      <td>2,476</td>\n",
       "    </tr>\n",
       "    <tr>\n",
       "      <th>4</th>\n",
       "      <td>qx</td>\n",
       "      <td>RHHBY</td>\n",
       "      <td>33.23</td>\n",
       "      <td>+0.97</td>\n",
       "      <td>46,887,527</td>\n",
       "      <td>1,415,561</td>\n",
       "      <td>1,369</td>\n",
       "    </tr>\n",
       "    <tr>\n",
       "      <th>5</th>\n",
       "      <td>qx</td>\n",
       "      <td>GBTC</td>\n",
       "      <td>7.325</td>\n",
       "      <td>+6.93</td>\n",
       "      <td>45,268,895</td>\n",
       "      <td>6,058,170</td>\n",
       "      <td>7,443</td>\n",
       "    </tr>\n",
       "  </tbody>\n",
       "</table>\n",
       "</div>"
      ],
      "text/plain": [
       "  TIER SYMBOL  PRICE Per_CHANGE          VOL  SHARE_VOL TRADES\n",
       "1   ps  TCEHY  49.76      +1.10  100,474,741  2,015,981  5,064\n",
       "2   ps  IDEXY  14.70      +0.62   56,714,077  3,872,068    302\n",
       "3   ps  SFTBY  55.88      +4.84   48,413,077    875,543  2,476\n",
       "4   qx  RHHBY  33.23      +0.97   46,887,527  1,415,561  1,369\n",
       "5   qx   GBTC  7.325      +6.93   45,268,895  6,058,170  7,443"
      ]
     },
     "execution_count": 82,
     "metadata": {},
     "output_type": "execute_result"
    }
   ],
   "source": [
    "# Merge the two Dataframe together\n",
    "OTC_Markets = pd.merge(TIER, OTC, left_index=True, right_index=True)\n",
    "OTC_Markets.head()"
   ]
  },
  {
   "cell_type": "code",
   "execution_count": 86,
   "metadata": {},
   "outputs": [
    {
     "data": {
      "text/html": [
       "<div>\n",
       "<style scoped>\n",
       "    .dataframe tbody tr th:only-of-type {\n",
       "        vertical-align: middle;\n",
       "    }\n",
       "\n",
       "    .dataframe tbody tr th {\n",
       "        vertical-align: top;\n",
       "    }\n",
       "\n",
       "    .dataframe thead th {\n",
       "        text-align: right;\n",
       "    }\n",
       "</style>\n",
       "<table border=\"1\" class=\"dataframe\">\n",
       "  <thead>\n",
       "    <tr style=\"text-align: right;\">\n",
       "      <th></th>\n",
       "      <th>TIER</th>\n",
       "      <th>SYMBOL</th>\n",
       "      <th>PRICE</th>\n",
       "      <th>Per_CHANGE</th>\n",
       "      <th>VOL</th>\n",
       "      <th>SHARE_VOL</th>\n",
       "      <th>TRADES</th>\n",
       "    </tr>\n",
       "  </thead>\n",
       "  <tbody>\n",
       "    <tr>\n",
       "      <th>0</th>\n",
       "      <td>qx</td>\n",
       "      <td>RHHBY</td>\n",
       "      <td>33.23</td>\n",
       "      <td>+0.97</td>\n",
       "      <td>46,887,527</td>\n",
       "      <td>1,415,561</td>\n",
       "      <td>1,369</td>\n",
       "    </tr>\n",
       "    <tr>\n",
       "      <th>1</th>\n",
       "      <td>qx</td>\n",
       "      <td>GBTC</td>\n",
       "      <td>7.325</td>\n",
       "      <td>+6.93</td>\n",
       "      <td>45,268,895</td>\n",
       "      <td>6,058,170</td>\n",
       "      <td>7,443</td>\n",
       "    </tr>\n",
       "    <tr>\n",
       "      <th>2</th>\n",
       "      <td>qb</td>\n",
       "      <td>FMCKJ</td>\n",
       "      <td>11.25</td>\n",
       "      <td>+2.27</td>\n",
       "      <td>12,268,924</td>\n",
       "      <td>843,803</td>\n",
       "      <td>293</td>\n",
       "    </tr>\n",
       "    <tr>\n",
       "      <th>3</th>\n",
       "      <td>qb</td>\n",
       "      <td>FNMAS</td>\n",
       "      <td>11.315</td>\n",
       "      <td>+1.57</td>\n",
       "      <td>8,654,586</td>\n",
       "      <td>769,755</td>\n",
       "      <td>695</td>\n",
       "    </tr>\n",
       "    <tr>\n",
       "      <th>4</th>\n",
       "      <td>qx</td>\n",
       "      <td>CURLF</td>\n",
       "      <td>10.7564</td>\n",
       "      <td>-3.22</td>\n",
       "      <td>8,470,204</td>\n",
       "      <td>772,704</td>\n",
       "      <td>2,774</td>\n",
       "    </tr>\n",
       "  </tbody>\n",
       "</table>\n",
       "</div>"
      ],
      "text/plain": [
       "  TIER SYMBOL    PRICE Per_CHANGE         VOL  SHARE_VOL TRADES\n",
       "0   qx  RHHBY    33.23      +0.97  46,887,527  1,415,561  1,369\n",
       "1   qx   GBTC    7.325      +6.93  45,268,895  6,058,170  7,443\n",
       "2   qb  FMCKJ    11.25      +2.27  12,268,924    843,803    293\n",
       "3   qb  FNMAS   11.315      +1.57   8,654,586    769,755    695\n",
       "4   qx  CURLF  10.7564      -3.22   8,470,204    772,704  2,774"
      ]
     },
     "execution_count": 86,
     "metadata": {},
     "output_type": "execute_result"
    }
   ],
   "source": [
    "# Remove OTC Pink (ps) & OTC (stop), which is the lowest and most speculative tier \n",
    "OTC_Markets_final= OTC_Markets[(OTC_Markets.TIER == \"qb\") | (OTC_Markets.TIER == \"qx\")].reset_index(drop=True)\n",
    "OTC_Markets_final.head()"
   ]
  },
  {
   "cell_type": "code",
   "execution_count": 87,
   "metadata": {},
   "outputs": [
    {
     "data": {
      "text/html": [
       "<div>\n",
       "<style scoped>\n",
       "    .dataframe tbody tr th:only-of-type {\n",
       "        vertical-align: middle;\n",
       "    }\n",
       "\n",
       "    .dataframe tbody tr th {\n",
       "        vertical-align: top;\n",
       "    }\n",
       "\n",
       "    .dataframe thead th {\n",
       "        text-align: right;\n",
       "    }\n",
       "</style>\n",
       "<table border=\"1\" class=\"dataframe\">\n",
       "  <thead>\n",
       "    <tr style=\"text-align: right;\">\n",
       "      <th></th>\n",
       "      <th>TIER</th>\n",
       "      <th>SYMBOL</th>\n",
       "      <th>PRICE</th>\n",
       "      <th>Per_CHANGE</th>\n",
       "      <th>VOL</th>\n",
       "      <th>SHARE_VOL</th>\n",
       "      <th>TRADES</th>\n",
       "    </tr>\n",
       "  </thead>\n",
       "  <tbody>\n",
       "    <tr>\n",
       "      <th>1</th>\n",
       "      <td>qx</td>\n",
       "      <td>RHHBY</td>\n",
       "      <td>33.23</td>\n",
       "      <td>+0.97</td>\n",
       "      <td>46,887,527</td>\n",
       "      <td>1,415,561</td>\n",
       "      <td>1,369</td>\n",
       "    </tr>\n",
       "    <tr>\n",
       "      <th>2</th>\n",
       "      <td>qx</td>\n",
       "      <td>GBTC</td>\n",
       "      <td>7.325</td>\n",
       "      <td>+6.93</td>\n",
       "      <td>45,268,895</td>\n",
       "      <td>6,058,170</td>\n",
       "      <td>7,443</td>\n",
       "    </tr>\n",
       "    <tr>\n",
       "      <th>3</th>\n",
       "      <td>qb</td>\n",
       "      <td>FMCKJ</td>\n",
       "      <td>11.25</td>\n",
       "      <td>+2.27</td>\n",
       "      <td>12,268,924</td>\n",
       "      <td>843,803</td>\n",
       "      <td>293</td>\n",
       "    </tr>\n",
       "    <tr>\n",
       "      <th>4</th>\n",
       "      <td>qb</td>\n",
       "      <td>FNMAS</td>\n",
       "      <td>11.315</td>\n",
       "      <td>+1.57</td>\n",
       "      <td>8,654,586</td>\n",
       "      <td>769,755</td>\n",
       "      <td>695</td>\n",
       "    </tr>\n",
       "    <tr>\n",
       "      <th>5</th>\n",
       "      <td>qx</td>\n",
       "      <td>CURLF</td>\n",
       "      <td>10.7564</td>\n",
       "      <td>-3.22</td>\n",
       "      <td>8,470,204</td>\n",
       "      <td>772,704</td>\n",
       "      <td>2,774</td>\n",
       "    </tr>\n",
       "  </tbody>\n",
       "</table>\n",
       "</div>"
      ],
      "text/plain": [
       "  TIER SYMBOL    PRICE Per_CHANGE         VOL  SHARE_VOL TRADES\n",
       "1   qx  RHHBY    33.23      +0.97  46,887,527  1,415,561  1,369\n",
       "2   qx   GBTC    7.325      +6.93  45,268,895  6,058,170  7,443\n",
       "3   qb  FMCKJ    11.25      +2.27  12,268,924    843,803    293\n",
       "4   qb  FNMAS   11.315      +1.57   8,654,586    769,755    695\n",
       "5   qx  CURLF  10.7564      -3.22   8,470,204    772,704  2,774"
      ]
     },
     "execution_count": 87,
     "metadata": {},
     "output_type": "execute_result"
    }
   ],
   "source": [
    "OTC_Markets_final.index += 1\n",
    "OTC_Markets_final.head()"
   ]
  },
  {
   "cell_type": "code",
   "execution_count": 96,
   "metadata": {},
   "outputs": [
    {
     "data": {
      "text/html": [
       "<div>\n",
       "<style scoped>\n",
       "    .dataframe tbody tr th:only-of-type {\n",
       "        vertical-align: middle;\n",
       "    }\n",
       "\n",
       "    .dataframe tbody tr th {\n",
       "        vertical-align: top;\n",
       "    }\n",
       "\n",
       "    .dataframe thead th {\n",
       "        text-align: right;\n",
       "    }\n",
       "</style>\n",
       "<table border=\"1\" class=\"dataframe\">\n",
       "  <thead>\n",
       "    <tr style=\"text-align: right;\">\n",
       "      <th></th>\n",
       "      <th>TIER</th>\n",
       "      <th>SYMBOL</th>\n",
       "      <th>PRICE</th>\n",
       "      <th>Per_CHANGE</th>\n",
       "      <th>VOL</th>\n",
       "      <th>SHARE_VOL</th>\n",
       "      <th>TRADES</th>\n",
       "    </tr>\n",
       "  </thead>\n",
       "  <tbody>\n",
       "    <tr>\n",
       "      <th>count</th>\n",
       "      <td>1114</td>\n",
       "      <td>1114</td>\n",
       "      <td>1114</td>\n",
       "      <td>1114</td>\n",
       "      <td>1114</td>\n",
       "      <td>1114</td>\n",
       "      <td>1114</td>\n",
       "    </tr>\n",
       "    <tr>\n",
       "      <th>unique</th>\n",
       "      <td>2</td>\n",
       "      <td>538</td>\n",
       "      <td>478</td>\n",
       "      <td>421</td>\n",
       "      <td>536</td>\n",
       "      <td>525</td>\n",
       "      <td>191</td>\n",
       "    </tr>\n",
       "    <tr>\n",
       "      <th>top</th>\n",
       "      <td>qb</td>\n",
       "      <td>CWBHF</td>\n",
       "      <td>0.20</td>\n",
       "      <td>0.00</td>\n",
       "      <td>3,381,427</td>\n",
       "      <td>500</td>\n",
       "      <td>2</td>\n",
       "    </tr>\n",
       "    <tr>\n",
       "      <th>freq</th>\n",
       "      <td>634</td>\n",
       "      <td>4</td>\n",
       "      <td>12</td>\n",
       "      <td>77</td>\n",
       "      <td>4</td>\n",
       "      <td>8</td>\n",
       "      <td>46</td>\n",
       "    </tr>\n",
       "  </tbody>\n",
       "</table>\n",
       "</div>"
      ],
      "text/plain": [
       "        TIER SYMBOL PRICE Per_CHANGE        VOL SHARE_VOL TRADES\n",
       "count   1114   1114  1114       1114       1114      1114   1114\n",
       "unique     2    538   478        421        536       525    191\n",
       "top       qb  CWBHF  0.20       0.00  3,381,427       500      2\n",
       "freq     634      4    12         77          4         8     46"
      ]
     },
     "execution_count": 96,
     "metadata": {},
     "output_type": "execute_result"
    }
   ],
   "source": [
    "# Count\n",
    "OTC_Markets_final.describe()"
   ]
  },
  {
   "cell_type": "code",
   "execution_count": 98,
   "metadata": {},
   "outputs": [],
   "source": [
    "#export csv to be backup\n",
    "OTC_qxqb_Markets.to_csv(\"OTC_Markets_final.csv\")"
   ]
  },
  {
   "cell_type": "code",
   "execution_count": 102,
   "metadata": {},
   "outputs": [],
   "source": [
    "# Import Dataframe into Mongodb\n",
    "import pandas as pd\n",
    "from pymongo import MongoClient\n",
    "import pymongo\n",
    "import json\n",
    "import os\n",
    "import datetime"
   ]
  },
  {
   "cell_type": "code",
   "execution_count": 103,
   "metadata": {},
   "outputs": [],
   "source": [
    "conn = 'mongodb://localhost:27017'\n",
    "client = pymongo.MongoClient(conn)\n",
    "db = client.otc_markets\n",
    "collection = db.most_active"
   ]
  },
  {
   "cell_type": "code",
   "execution_count": 104,
   "metadata": {},
   "outputs": [
    {
     "data": {
      "text/plain": [
       "<pymongo.results.InsertManyResult at 0x11c561e88>"
      ]
     },
     "execution_count": 104,
     "metadata": {},
     "output_type": "execute_result"
    }
   ],
   "source": [
    "# Inserr Records in Mongodb\n",
    "records = json.loads(OTC_Markets_final.T.to_json()).values()\n",
    "db.most_active.insert_many(OTC_Markets_final.to_dict('records'))"
   ]
  },
  {
   "cell_type": "code",
   "execution_count": null,
   "metadata": {},
   "outputs": [],
   "source": []
  }
 ],
 "metadata": {
  "kernelspec": {
   "display_name": "Python (PythonData)",
   "language": "python",
   "name": "pythondata"
  },
  "language_info": {
   "codemirror_mode": {
    "name": "ipython",
    "version": 3
   },
   "file_extension": ".py",
   "mimetype": "text/x-python",
   "name": "python",
   "nbconvert_exporter": "python",
   "pygments_lexer": "ipython3",
   "version": "3.7.2"
  }
 },
 "nbformat": 4,
 "nbformat_minor": 2
}
