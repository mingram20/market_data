{
 "cells": [
  {
   "cell_type": "code",
   "execution_count": 1,
   "metadata": {},
   "outputs": [],
   "source": [
    "from selenium import webdriver\n",
    "from selenium.webdriver.common.keys import Keys\n",
    "from bs4 import BeautifulSoup\n",
    "from selenium.webdriver.support.ui import WebDriverWait\n",
    "import pandas as pd\n",
    "import os\n",
    "import time"
   ]
  },
  {
   "cell_type": "code",
   "execution_count": 2,
   "metadata": {},
   "outputs": [],
   "source": [
    "# OTC Markets Website URL\n",
    "url = \"https://www.otcmarkets.com/market-activity/current-market/ALL/active/dollarVolume\""
   ]
  },
  {
   "cell_type": "markdown",
   "metadata": {},
   "source": [
    "## Scrape data by selenium library"
   ]
  },
  {
   "cell_type": "code",
   "execution_count": 3,
   "metadata": {},
   "outputs": [],
   "source": [
    "driver = webdriver.Chrome('/usr/local/bin/chromedriver')\n",
    "driver.get(url)\n",
    "soup = BeautifulSoup(driver.page_source,'lxml') #Currently, soup only has 25 rows data in web table"
   ]
  },
  {
   "cell_type": "code",
   "execution_count": 4,
   "metadata": {},
   "outputs": [
    {
     "name": "stdout",
     "output_type": "stream",
     "text": [
      "18513\n"
     ]
    }
   ],
   "source": [
    "# Scrape how much rows in web table\n",
    "title = soup.title.text\n",
    "most_active_stocks_no = soup.find(\"div\", {\"class\": \"_12doApv4EC\"}).text[17:22]\n",
    "print(most_active_stocks_no)"
   ]
  },
  {
   "cell_type": "code",
   "execution_count": 5,
   "metadata": {},
   "outputs": [],
   "source": [
    "#We decide to only collect top 4000 Volume of most active companies.\n",
    "#We let code to click \"MORE\" buttomn several times to get top 4000 rows.\n",
    "#It takes around 6 mins to fully excute this cell code.\n",
    "for x in range(0, (int(4000/25)-1)):\n",
    "     \n",
    "    python_button = driver.find_element_by_class_name('_2sFaw3zGf1')\n",
    "    python_button.click()\n",
    "    \n",
    "    time.sleep(2)\n"
   ]
  },
  {
   "cell_type": "code",
   "execution_count": 6,
   "metadata": {},
   "outputs": [],
   "source": [
    "#Need to run soup agian to get top 4000 row data from the browser which is clicked for several times by code.\n",
    "soup = BeautifulSoup(driver.page_source,'lxml')"
   ]
  },
  {
   "cell_type": "code",
   "execution_count": 7,
   "metadata": {},
   "outputs": [],
   "source": [
    "OTC_list = []\n",
    "TIER_list = []\n",
    "\n",
    "#To scrape TIER link\n",
    "tier_column = soup.findAll(\"div\", {\"class\": \"_2_IqcDGekT\"})\n",
    "#To scrape Table\n",
    "table_rows = soup.find_all('tr')\n",
    "\n",
    "#To scrape the TIER (ps,qb,qx....) from the link\n",
    "for t in tier_column:\n",
    "        TIER_list.append(t.img[\"src\"].split(\"/\")[3].split(\".\")[0])\n",
    "\n",
    "#To scrape the data in the table\n",
    "for tr in table_rows:\n",
    "            td = tr.find_all('td')\n",
    "            row = [tr.text for tr in td]\n",
    "            OTC_list.append(row)"
   ]
  },
  {
   "cell_type": "code",
   "execution_count": 8,
   "metadata": {},
   "outputs": [
    {
     "data": {
      "text/html": [
       "<div>\n",
       "<style scoped>\n",
       "    .dataframe tbody tr th:only-of-type {\n",
       "        vertical-align: middle;\n",
       "    }\n",
       "\n",
       "    .dataframe tbody tr th {\n",
       "        vertical-align: top;\n",
       "    }\n",
       "\n",
       "    .dataframe thead th {\n",
       "        text-align: right;\n",
       "    }\n",
       "</style>\n",
       "<table border=\"1\" class=\"dataframe\">\n",
       "  <thead>\n",
       "    <tr style=\"text-align: right;\">\n",
       "      <th></th>\n",
       "      <th>TIER</th>\n",
       "    </tr>\n",
       "  </thead>\n",
       "  <tbody>\n",
       "    <tr>\n",
       "      <th>1</th>\n",
       "      <td>ps</td>\n",
       "    </tr>\n",
       "    <tr>\n",
       "      <th>2</th>\n",
       "      <td>ps</td>\n",
       "    </tr>\n",
       "    <tr>\n",
       "      <th>3</th>\n",
       "      <td>ps</td>\n",
       "    </tr>\n",
       "    <tr>\n",
       "      <th>4</th>\n",
       "      <td>ps</td>\n",
       "    </tr>\n",
       "    <tr>\n",
       "      <th>5</th>\n",
       "      <td>qb</td>\n",
       "    </tr>\n",
       "  </tbody>\n",
       "</table>\n",
       "</div>"
      ],
      "text/plain": [
       "  TIER\n",
       "1   ps\n",
       "2   ps\n",
       "3   ps\n",
       "4   ps\n",
       "5   qb"
      ]
     },
     "execution_count": 8,
     "metadata": {},
     "output_type": "execute_result"
    }
   ],
   "source": [
    "# Convert the TIER list into a DataFrame\n",
    "TIER = pd.DataFrame(TIER_list, columns=[\"TIER\"])\n",
    "TIER.index += 1\n",
    "TIER.head()"
   ]
  },
  {
   "cell_type": "code",
   "execution_count": 9,
   "metadata": {},
   "outputs": [
    {
     "data": {
      "text/html": [
       "<div>\n",
       "<style scoped>\n",
       "    .dataframe tbody tr th:only-of-type {\n",
       "        vertical-align: middle;\n",
       "    }\n",
       "\n",
       "    .dataframe tbody tr th {\n",
       "        vertical-align: top;\n",
       "    }\n",
       "\n",
       "    .dataframe thead th {\n",
       "        text-align: right;\n",
       "    }\n",
       "</style>\n",
       "<table border=\"1\" class=\"dataframe\">\n",
       "  <thead>\n",
       "    <tr style=\"text-align: right;\">\n",
       "      <th></th>\n",
       "      <th>SYMBOL</th>\n",
       "      <th>PRICE</th>\n",
       "      <th>% CHANGE</th>\n",
       "      <th>$ VOL</th>\n",
       "      <th>SHARE_VOL</th>\n",
       "      <th>TRADES</th>\n",
       "    </tr>\n",
       "  </thead>\n",
       "  <tbody>\n",
       "    <tr>\n",
       "      <th>1</th>\n",
       "      <td>TCEHY</td>\n",
       "      <td>49.22</td>\n",
       "      <td>+0.24</td>\n",
       "      <td>141,157,704</td>\n",
       "      <td>2,868,039</td>\n",
       "      <td>5,633</td>\n",
       "    </tr>\n",
       "    <tr>\n",
       "      <th>2</th>\n",
       "      <td>TSCDY</td>\n",
       "      <td>9.85</td>\n",
       "      <td>-0.38</td>\n",
       "      <td>107,557,436</td>\n",
       "      <td>10,921,536</td>\n",
       "      <td>376</td>\n",
       "    </tr>\n",
       "    <tr>\n",
       "      <th>3</th>\n",
       "      <td>BUDFF</td>\n",
       "      <td>87.56</td>\n",
       "      <td>-1.12</td>\n",
       "      <td>46,022,746</td>\n",
       "      <td>525,455</td>\n",
       "      <td>14</td>\n",
       "    </tr>\n",
       "    <tr>\n",
       "      <th>4</th>\n",
       "      <td>NPSNY</td>\n",
       "      <td>50.70</td>\n",
       "      <td>-0.53</td>\n",
       "      <td>42,512,168</td>\n",
       "      <td>835,607</td>\n",
       "      <td>967</td>\n",
       "    </tr>\n",
       "    <tr>\n",
       "      <th>5</th>\n",
       "      <td>CHKVP</td>\n",
       "      <td>505.00</td>\n",
       "      <td>+1.00</td>\n",
       "      <td>40,305,500</td>\n",
       "      <td>80,010</td>\n",
       "      <td>5</td>\n",
       "    </tr>\n",
       "  </tbody>\n",
       "</table>\n",
       "</div>"
      ],
      "text/plain": [
       "  SYMBOL   PRICE % CHANGE        $ VOL   SHARE_VOL TRADES\n",
       "1  TCEHY   49.22    +0.24  141,157,704   2,868,039  5,633\n",
       "2  TSCDY    9.85    -0.38  107,557,436  10,921,536    376\n",
       "3  BUDFF   87.56    -1.12   46,022,746     525,455     14\n",
       "4  NPSNY   50.70    -0.53   42,512,168     835,607    967\n",
       "5  CHKVP  505.00    +1.00   40,305,500      80,010      5"
      ]
     },
     "execution_count": 9,
     "metadata": {},
     "output_type": "execute_result"
    }
   ],
   "source": [
    "# Convert the OTC List into Dataframe\n",
    "OTC = pd.DataFrame(OTC_list, columns=[\"SYMBOL\", \"PRICE\", \"% CHANGE\", \"$ VOL\", \"SHARE_VOL\", \"TRADES\"])\n",
    "OTC = OTC.iloc[1:]\n",
    "OTC.head()"
   ]
  },
  {
   "cell_type": "code",
   "execution_count": 10,
   "metadata": {},
   "outputs": [
    {
     "data": {
      "text/html": [
       "<div>\n",
       "<style scoped>\n",
       "    .dataframe tbody tr th:only-of-type {\n",
       "        vertical-align: middle;\n",
       "    }\n",
       "\n",
       "    .dataframe tbody tr th {\n",
       "        vertical-align: top;\n",
       "    }\n",
       "\n",
       "    .dataframe thead th {\n",
       "        text-align: right;\n",
       "    }\n",
       "</style>\n",
       "<table border=\"1\" class=\"dataframe\">\n",
       "  <thead>\n",
       "    <tr style=\"text-align: right;\">\n",
       "      <th></th>\n",
       "      <th>TIER</th>\n",
       "      <th>SYMBOL</th>\n",
       "      <th>PRICE</th>\n",
       "      <th>% CHANGE</th>\n",
       "      <th>$ VOL</th>\n",
       "      <th>SHARE_VOL</th>\n",
       "      <th>TRADES</th>\n",
       "    </tr>\n",
       "  </thead>\n",
       "  <tbody>\n",
       "    <tr>\n",
       "      <th>1</th>\n",
       "      <td>ps</td>\n",
       "      <td>TCEHY</td>\n",
       "      <td>49.22</td>\n",
       "      <td>+0.24</td>\n",
       "      <td>141,157,704</td>\n",
       "      <td>2,868,039</td>\n",
       "      <td>5,633</td>\n",
       "    </tr>\n",
       "    <tr>\n",
       "      <th>2</th>\n",
       "      <td>ps</td>\n",
       "      <td>TSCDY</td>\n",
       "      <td>9.85</td>\n",
       "      <td>-0.38</td>\n",
       "      <td>107,557,436</td>\n",
       "      <td>10,921,536</td>\n",
       "      <td>376</td>\n",
       "    </tr>\n",
       "    <tr>\n",
       "      <th>3</th>\n",
       "      <td>ps</td>\n",
       "      <td>BUDFF</td>\n",
       "      <td>87.56</td>\n",
       "      <td>-1.12</td>\n",
       "      <td>46,022,746</td>\n",
       "      <td>525,455</td>\n",
       "      <td>14</td>\n",
       "    </tr>\n",
       "    <tr>\n",
       "      <th>4</th>\n",
       "      <td>ps</td>\n",
       "      <td>NPSNY</td>\n",
       "      <td>50.70</td>\n",
       "      <td>-0.53</td>\n",
       "      <td>42,512,168</td>\n",
       "      <td>835,607</td>\n",
       "      <td>967</td>\n",
       "    </tr>\n",
       "    <tr>\n",
       "      <th>5</th>\n",
       "      <td>qb</td>\n",
       "      <td>CHKVP</td>\n",
       "      <td>505.00</td>\n",
       "      <td>+1.00</td>\n",
       "      <td>40,305,500</td>\n",
       "      <td>80,010</td>\n",
       "      <td>5</td>\n",
       "    </tr>\n",
       "  </tbody>\n",
       "</table>\n",
       "</div>"
      ],
      "text/plain": [
       "  TIER SYMBOL   PRICE % CHANGE        $ VOL   SHARE_VOL TRADES\n",
       "1   ps  TCEHY   49.22    +0.24  141,157,704   2,868,039  5,633\n",
       "2   ps  TSCDY    9.85    -0.38  107,557,436  10,921,536    376\n",
       "3   ps  BUDFF   87.56    -1.12   46,022,746     525,455     14\n",
       "4   ps  NPSNY   50.70    -0.53   42,512,168     835,607    967\n",
       "5   qb  CHKVP  505.00    +1.00   40,305,500      80,010      5"
      ]
     },
     "execution_count": 10,
     "metadata": {},
     "output_type": "execute_result"
    }
   ],
   "source": [
    "#Merge two data sets into one data set\n",
    "OTC_Markets = pd.merge(TIER, OTC, left_index=True, right_index=True)\n",
    "OTC_Markets.head()"
   ]
  },
  {
   "cell_type": "code",
   "execution_count": 11,
   "metadata": {},
   "outputs": [
    {
     "data": {
      "text/html": [
       "<div>\n",
       "<style scoped>\n",
       "    .dataframe tbody tr th:only-of-type {\n",
       "        vertical-align: middle;\n",
       "    }\n",
       "\n",
       "    .dataframe tbody tr th {\n",
       "        vertical-align: top;\n",
       "    }\n",
       "\n",
       "    .dataframe thead th {\n",
       "        text-align: right;\n",
       "    }\n",
       "</style>\n",
       "<table border=\"1\" class=\"dataframe\">\n",
       "  <thead>\n",
       "    <tr style=\"text-align: right;\">\n",
       "      <th></th>\n",
       "      <th>TIER</th>\n",
       "      <th>SYMBOL</th>\n",
       "      <th>PRICE</th>\n",
       "      <th>% CHANGE</th>\n",
       "      <th>$ VOL</th>\n",
       "      <th>SHARE_VOL</th>\n",
       "      <th>TRADES</th>\n",
       "    </tr>\n",
       "  </thead>\n",
       "  <tbody>\n",
       "    <tr>\n",
       "      <th>5</th>\n",
       "      <td>qb</td>\n",
       "      <td>CHKVP</td>\n",
       "      <td>505.00</td>\n",
       "      <td>+1.00</td>\n",
       "      <td>40,305,500</td>\n",
       "      <td>80,010</td>\n",
       "      <td>5</td>\n",
       "    </tr>\n",
       "    <tr>\n",
       "      <th>9</th>\n",
       "      <td>qx</td>\n",
       "      <td>RHHBY</td>\n",
       "      <td>32.91</td>\n",
       "      <td>-0.42</td>\n",
       "      <td>19,289,244</td>\n",
       "      <td>586,755</td>\n",
       "      <td>1,726</td>\n",
       "    </tr>\n",
       "    <tr>\n",
       "      <th>10</th>\n",
       "      <td>qx</td>\n",
       "      <td>CURLF</td>\n",
       "      <td>11.1138</td>\n",
       "      <td>+0.12</td>\n",
       "      <td>18,999,273</td>\n",
       "      <td>1,714,906</td>\n",
       "      <td>5,390</td>\n",
       "    </tr>\n",
       "    <tr>\n",
       "      <th>11</th>\n",
       "      <td>qx</td>\n",
       "      <td>GBTC</td>\n",
       "      <td>6.85</td>\n",
       "      <td>+1.48</td>\n",
       "      <td>18,890,855</td>\n",
       "      <td>2,728,799</td>\n",
       "      <td>3,739</td>\n",
       "    </tr>\n",
       "    <tr>\n",
       "      <th>17</th>\n",
       "      <td>qx</td>\n",
       "      <td>OGRMF</td>\n",
       "      <td>7.15</td>\n",
       "      <td>-6.66</td>\n",
       "      <td>11,905,953</td>\n",
       "      <td>1,628,362</td>\n",
       "      <td>4,347</td>\n",
       "    </tr>\n",
       "  </tbody>\n",
       "</table>\n",
       "</div>"
      ],
      "text/plain": [
       "   TIER SYMBOL    PRICE % CHANGE       $ VOL  SHARE_VOL TRADES\n",
       "5    qb  CHKVP   505.00    +1.00  40,305,500     80,010      5\n",
       "9    qx  RHHBY    32.91    -0.42  19,289,244    586,755  1,726\n",
       "10   qx  CURLF  11.1138    +0.12  18,999,273  1,714,906  5,390\n",
       "11   qx   GBTC     6.85    +1.48  18,890,855  2,728,799  3,739\n",
       "17   qx  OGRMF     7.15    -6.66  11,905,953  1,628,362  4,347"
      ]
     },
     "execution_count": 11,
     "metadata": {},
     "output_type": "execute_result"
    }
   ],
   "source": [
    "# Only keep qx and qb TIER which we want to know\n",
    "OTC_qxqb_Markets = OTC_Markets[(OTC_Markets.TIER == 'qb') | (OTC_Markets.TIER == 'qx')]\n",
    "OTC_qxqb_Markets.head()"
   ]
  },
  {
   "cell_type": "code",
   "execution_count": 12,
   "metadata": {},
   "outputs": [
    {
     "data": {
      "text/html": [
       "<div>\n",
       "<style scoped>\n",
       "    .dataframe tbody tr th:only-of-type {\n",
       "        vertical-align: middle;\n",
       "    }\n",
       "\n",
       "    .dataframe tbody tr th {\n",
       "        vertical-align: top;\n",
       "    }\n",
       "\n",
       "    .dataframe thead th {\n",
       "        text-align: right;\n",
       "    }\n",
       "</style>\n",
       "<table border=\"1\" class=\"dataframe\">\n",
       "  <thead>\n",
       "    <tr style=\"text-align: right;\">\n",
       "      <th></th>\n",
       "      <th>TIER</th>\n",
       "      <th>SYMBOL</th>\n",
       "      <th>PRICE</th>\n",
       "      <th>% CHANGE</th>\n",
       "      <th>$ VOL</th>\n",
       "      <th>SHARE_VOL</th>\n",
       "      <th>TRADES</th>\n",
       "    </tr>\n",
       "  </thead>\n",
       "  <tbody>\n",
       "    <tr>\n",
       "      <th>1</th>\n",
       "      <td>qb</td>\n",
       "      <td>CHKVP</td>\n",
       "      <td>505.00</td>\n",
       "      <td>+1.00</td>\n",
       "      <td>40,305,500</td>\n",
       "      <td>80,010</td>\n",
       "      <td>5</td>\n",
       "    </tr>\n",
       "    <tr>\n",
       "      <th>2</th>\n",
       "      <td>qx</td>\n",
       "      <td>RHHBY</td>\n",
       "      <td>32.91</td>\n",
       "      <td>-0.42</td>\n",
       "      <td>19,289,244</td>\n",
       "      <td>586,755</td>\n",
       "      <td>1,726</td>\n",
       "    </tr>\n",
       "    <tr>\n",
       "      <th>3</th>\n",
       "      <td>qx</td>\n",
       "      <td>CURLF</td>\n",
       "      <td>11.1138</td>\n",
       "      <td>+0.12</td>\n",
       "      <td>18,999,273</td>\n",
       "      <td>1,714,906</td>\n",
       "      <td>5,390</td>\n",
       "    </tr>\n",
       "    <tr>\n",
       "      <th>4</th>\n",
       "      <td>qx</td>\n",
       "      <td>GBTC</td>\n",
       "      <td>6.85</td>\n",
       "      <td>+1.48</td>\n",
       "      <td>18,890,855</td>\n",
       "      <td>2,728,799</td>\n",
       "      <td>3,739</td>\n",
       "    </tr>\n",
       "    <tr>\n",
       "      <th>5</th>\n",
       "      <td>qx</td>\n",
       "      <td>OGRMF</td>\n",
       "      <td>7.15</td>\n",
       "      <td>-6.66</td>\n",
       "      <td>11,905,953</td>\n",
       "      <td>1,628,362</td>\n",
       "      <td>4,347</td>\n",
       "    </tr>\n",
       "  </tbody>\n",
       "</table>\n",
       "</div>"
      ],
      "text/plain": [
       "  TIER SYMBOL    PRICE % CHANGE       $ VOL  SHARE_VOL TRADES\n",
       "1   qb  CHKVP   505.00    +1.00  40,305,500     80,010      5\n",
       "2   qx  RHHBY    32.91    -0.42  19,289,244    586,755  1,726\n",
       "3   qx  CURLF  11.1138    +0.12  18,999,273  1,714,906  5,390\n",
       "4   qx   GBTC     6.85    +1.48  18,890,855  2,728,799  3,739\n",
       "5   qx  OGRMF     7.15    -6.66  11,905,953  1,628,362  4,347"
      ]
     },
     "execution_count": 12,
     "metadata": {},
     "output_type": "execute_result"
    }
   ],
   "source": [
    "# Reset Index\n",
    "OTC_qxqb_Markets.reset_index(drop=True,inplace=True)\n",
    "OTC_qxqb_Markets.index += 1\n",
    "OTC_qxqb_Markets.head()"
   ]
  },
  {
   "cell_type": "code",
   "execution_count": 13,
   "metadata": {},
   "outputs": [],
   "source": [
    "#export csv to be backup\n",
    "OTC_qxqb_Markets.to_csv(\"OTCmarkets4000_qx_qb.csv\")"
   ]
  },
  {
   "cell_type": "markdown",
   "metadata": {},
   "source": [
    "## Convert dataframe into Mongodb"
   ]
  },
  {
   "cell_type": "code",
   "execution_count": null,
   "metadata": {},
   "outputs": [],
   "source": [
    "import pandas as pd\n",
    "from pymongo import MongoClient\n",
    "import json\n",
    "import os\n",
    "import datetime"
   ]
  },
  {
   "cell_type": "code",
   "execution_count": null,
   "metadata": {},
   "outputs": [],
   "source": [
    "conn = 'mongodb://localhost:27017'\n",
    "client = pymongo.MongoClient(conn)\n",
    "db = client.otc_markets\n",
    "collection = db.most_active"
   ]
  },
  {
   "cell_type": "code",
   "execution_count": null,
   "metadata": {},
   "outputs": [],
   "source": [
    "records = json.loads(OTC_Markets.T.to_json()).values()\n",
    "db.most_active.insert_many(OTC_Markets.to_dict('records'))"
   ]
  },
  {
   "cell_type": "code",
   "execution_count": null,
   "metadata": {},
   "outputs": [],
   "source": []
  }
 ],
 "metadata": {
  "kernelspec": {
   "display_name": "Python 3",
   "language": "python",
   "name": "python3"
  },
  "language_info": {
   "codemirror_mode": {
    "name": "ipython",
    "version": 3
   },
   "file_extension": ".py",
   "mimetype": "text/x-python",
   "name": "python",
   "nbconvert_exporter": "python",
   "pygments_lexer": "ipython3",
   "version": "3.7.2"
  }
 },
 "nbformat": 4,
 "nbformat_minor": 2
}
